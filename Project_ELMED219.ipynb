{
  "nbformat": 4,
  "nbformat_minor": 0,
  "metadata": {
    "colab": {
      "name": "notebook-for-gruppe-1.ipynb",
      "version": "0.3.2",
      "provenance": [],
      "collapsed_sections": [
        "j9vjYTgtrKGM"
      ]
    },
    "kernelspec": {
      "name": "python3",
      "display_name": "Python 3"
    }
  },
  "cells": [
    {
      "metadata": {
        "colab_type": "text",
        "id": "lhzxHVcjKfJh"
      },
      "cell_type": "markdown",
      "source": [
        "Her skal vi lage en modell som på bakgrunn av ulike morfometriske cerebrale strukturer skal angi hvilken aldersgruppe hvert individ hører til, altså foreslå personens aldergruppe på bakgrunn av størrelsen på hjernens anatomiske strukturer."
      ]
    },
    {
      "metadata": {
        "_uuid": "ae6b13ac0fad091f0b82937ed664b554172942b9",
        "id": "YKN3xH9S-mMe",
        "colab_type": "text"
      },
      "cell_type": "markdown",
      "source": [
        "# Setup og datainnlatning"
      ]
    },
    {
      "metadata": {
        "id": "t8vqInEwxOT5",
        "colab_type": "text"
      },
      "cell_type": "markdown",
      "source": [
        ""
      ]
    },
    {
      "metadata": {
        "_uuid": "8f2839f25d086af736a60e9eeb907d3b93b6e0e5",
        "_cell_guid": "b1076dfc-b9ad-4769-8c92-a6c4dae69d19",
        "trusted": true,
        "id": "dTMv-o4P-mMf",
        "colab_type": "code",
        "colab": {}
      },
      "cell_type": "code",
      "source": [
        "%matplotlib inline\n",
        "import numpy as np \n",
        "import pandas as pd\n",
        "import matplotlib.pyplot as plt\n",
        "import seaborn as sns"
      ],
      "execution_count": 0,
      "outputs": []
    },
    {
      "metadata": {
        "id": "hYS_Hc--MhyA",
        "colab_type": "code",
        "colab": {}
      },
      "cell_type": "code",
      "source": [
        "train = pd.read_csv('https://github.com/MMIV-ML/ELMED219x/raw/master/data/project/train.csv')\n",
        "test = pd.read_csv('https://github.com/MMIV-ML/ELMED219x/raw/master/data/project/test.csv')\n",
        "sampleSubmission = pd.read_csv('https://github.com/MMIV-ML/ELMED219x/raw/master/data/project/sampleSubmission.csv')\n",
        "demography = pd.read_csv('https://github.com/MMIV-ML/ELMED219x/raw/master/data/project/demography.csv')"
      ],
      "execution_count": 0,
      "outputs": []
    },
    {
      "metadata": {
        "_uuid": "dc0402ba5649d3d22445d67fc72c71333448848d",
        "id": "_ZfRwibW-mMq",
        "colab_type": "text"
      },
      "cell_type": "markdown",
      "source": [
        "# Hva finnes i filene?"
      ]
    },
    {
      "metadata": {
        "_uuid": "5966d6d295310cbfc2a532ebb71b8a5b71ed8adc",
        "id": "eyWZSBbz-mMs",
        "colab_type": "text"
      },
      "cell_type": "markdown",
      "source": [
        "## Datasett, trening\n",
        "De første 5 linjene ser slik ut:"
      ]
    },
    {
      "metadata": {
        "trusted": true,
        "scrolled": true,
        "_uuid": "fbac345266b3d891582152bdb6f70cf31f043131",
        "id": "2x83Za-i-mMu",
        "colab_type": "code",
        "outputId": "e486ef01-175e-4e09-83a2-6ed6a561a2ef",
        "colab": {
          "base_uri": "https://localhost:8080/",
          "height": 304
        }
      },
      "cell_type": "code",
      "source": [
        "train.head()"
      ],
      "execution_count": 0,
      "outputs": [
        {
          "output_type": "execute_result",
          "data": {
            "text/html": [
              "<div>\n",
              "<style scoped>\n",
              "    .dataframe tbody tr th:only-of-type {\n",
              "        vertical-align: middle;\n",
              "    }\n",
              "\n",
              "    .dataframe tbody tr th {\n",
              "        vertical-align: top;\n",
              "    }\n",
              "\n",
              "    .dataframe thead th {\n",
              "        text-align: right;\n",
              "    }\n",
              "</style>\n",
              "<table border=\"1\" class=\"dataframe\">\n",
              "  <thead>\n",
              "    <tr style=\"text-align: right;\">\n",
              "      <th></th>\n",
              "      <th>IXI_ID</th>\n",
              "      <th>Measure:volume</th>\n",
              "      <th>Left-Lateral-Ventricle</th>\n",
              "      <th>Left-Inf-Lat-Vent</th>\n",
              "      <th>Left-Cerebellum-White-Matter</th>\n",
              "      <th>Left-Cerebellum-Cortex</th>\n",
              "      <th>Left-Thalamus-Proper</th>\n",
              "      <th>Left-Caudate</th>\n",
              "      <th>Left-Putamen</th>\n",
              "      <th>Left-Pallidum</th>\n",
              "      <th>...</th>\n",
              "      <th>rh_superiorparietal_volume</th>\n",
              "      <th>rh_superiortemporal_volume</th>\n",
              "      <th>rh_supramarginal_volume</th>\n",
              "      <th>rh_frontalpole_volume</th>\n",
              "      <th>rh_temporalpole_volume</th>\n",
              "      <th>rh_transversetemporal_volume</th>\n",
              "      <th>rh_insula_volume</th>\n",
              "      <th>BrainSegVolNotVent</th>\n",
              "      <th>eTIV_y</th>\n",
              "      <th>AGE_GROUP</th>\n",
              "    </tr>\n",
              "  </thead>\n",
              "  <tbody>\n",
              "    <tr>\n",
              "      <th>0</th>\n",
              "      <td>192</td>\n",
              "      <td>0</td>\n",
              "      <td>11111.5</td>\n",
              "      <td>331.0</td>\n",
              "      <td>11795.1</td>\n",
              "      <td>48149.3</td>\n",
              "      <td>6439.0</td>\n",
              "      <td>3088.3</td>\n",
              "      <td>4606.8</td>\n",
              "      <td>1649.9</td>\n",
              "      <td>...</td>\n",
              "      <td>12093.0</td>\n",
              "      <td>11443.0</td>\n",
              "      <td>9684.0</td>\n",
              "      <td>1127.0</td>\n",
              "      <td>2677.0</td>\n",
              "      <td>971.0</td>\n",
              "      <td>7527.0</td>\n",
              "      <td>1038272.0</td>\n",
              "      <td>1.428096e+06</td>\n",
              "      <td>1</td>\n",
              "    </tr>\n",
              "    <tr>\n",
              "      <th>1</th>\n",
              "      <td>380</td>\n",
              "      <td>0</td>\n",
              "      <td>7563.9</td>\n",
              "      <td>218.2</td>\n",
              "      <td>13404.7</td>\n",
              "      <td>50780.6</td>\n",
              "      <td>6066.0</td>\n",
              "      <td>2968.8</td>\n",
              "      <td>3907.7</td>\n",
              "      <td>2012.7</td>\n",
              "      <td>...</td>\n",
              "      <td>10072.0</td>\n",
              "      <td>10857.0</td>\n",
              "      <td>8617.0</td>\n",
              "      <td>929.0</td>\n",
              "      <td>2193.0</td>\n",
              "      <td>744.0</td>\n",
              "      <td>5644.0</td>\n",
              "      <td>997010.0</td>\n",
              "      <td>1.379130e+06</td>\n",
              "      <td>2</td>\n",
              "    </tr>\n",
              "    <tr>\n",
              "      <th>2</th>\n",
              "      <td>363</td>\n",
              "      <td>0</td>\n",
              "      <td>12209.3</td>\n",
              "      <td>215.3</td>\n",
              "      <td>12529.0</td>\n",
              "      <td>49778.5</td>\n",
              "      <td>6983.4</td>\n",
              "      <td>2867.0</td>\n",
              "      <td>3651.0</td>\n",
              "      <td>1615.6</td>\n",
              "      <td>...</td>\n",
              "      <td>10066.0</td>\n",
              "      <td>9829.0</td>\n",
              "      <td>8060.0</td>\n",
              "      <td>1027.0</td>\n",
              "      <td>1846.0</td>\n",
              "      <td>590.0</td>\n",
              "      <td>5985.0</td>\n",
              "      <td>961297.0</td>\n",
              "      <td>1.407561e+06</td>\n",
              "      <td>2</td>\n",
              "    </tr>\n",
              "    <tr>\n",
              "      <th>3</th>\n",
              "      <td>544</td>\n",
              "      <td>0</td>\n",
              "      <td>6339.2</td>\n",
              "      <td>179.6</td>\n",
              "      <td>16834.6</td>\n",
              "      <td>42331.6</td>\n",
              "      <td>7076.6</td>\n",
              "      <td>2872.1</td>\n",
              "      <td>2928.2</td>\n",
              "      <td>1806.6</td>\n",
              "      <td>...</td>\n",
              "      <td>10048.0</td>\n",
              "      <td>11579.0</td>\n",
              "      <td>7937.0</td>\n",
              "      <td>793.0</td>\n",
              "      <td>2549.0</td>\n",
              "      <td>822.0</td>\n",
              "      <td>6641.0</td>\n",
              "      <td>946245.0</td>\n",
              "      <td>1.301911e+06</td>\n",
              "      <td>2</td>\n",
              "    </tr>\n",
              "    <tr>\n",
              "      <th>4</th>\n",
              "      <td>166</td>\n",
              "      <td>0</td>\n",
              "      <td>3663.6</td>\n",
              "      <td>195.5</td>\n",
              "      <td>12412.9</td>\n",
              "      <td>49665.2</td>\n",
              "      <td>6986.4</td>\n",
              "      <td>3124.3</td>\n",
              "      <td>4325.6</td>\n",
              "      <td>1840.5</td>\n",
              "      <td>...</td>\n",
              "      <td>11176.0</td>\n",
              "      <td>11947.0</td>\n",
              "      <td>9539.0</td>\n",
              "      <td>1252.0</td>\n",
              "      <td>2578.0</td>\n",
              "      <td>949.0</td>\n",
              "      <td>6346.0</td>\n",
              "      <td>1015920.0</td>\n",
              "      <td>1.230259e+06</td>\n",
              "      <td>1</td>\n",
              "    </tr>\n",
              "  </tbody>\n",
              "</table>\n",
              "<p>5 rows × 141 columns</p>\n",
              "</div>"
            ],
            "text/plain": [
              "   IXI_ID  Measure:volume  Left-Lateral-Ventricle  Left-Inf-Lat-Vent  \\\n",
              "0     192               0                 11111.5              331.0   \n",
              "1     380               0                  7563.9              218.2   \n",
              "2     363               0                 12209.3              215.3   \n",
              "3     544               0                  6339.2              179.6   \n",
              "4     166               0                  3663.6              195.5   \n",
              "\n",
              "   Left-Cerebellum-White-Matter  Left-Cerebellum-Cortex  Left-Thalamus-Proper  \\\n",
              "0                       11795.1                 48149.3                6439.0   \n",
              "1                       13404.7                 50780.6                6066.0   \n",
              "2                       12529.0                 49778.5                6983.4   \n",
              "3                       16834.6                 42331.6                7076.6   \n",
              "4                       12412.9                 49665.2                6986.4   \n",
              "\n",
              "   Left-Caudate  Left-Putamen  Left-Pallidum    ...      \\\n",
              "0        3088.3        4606.8         1649.9    ...       \n",
              "1        2968.8        3907.7         2012.7    ...       \n",
              "2        2867.0        3651.0         1615.6    ...       \n",
              "3        2872.1        2928.2         1806.6    ...       \n",
              "4        3124.3        4325.6         1840.5    ...       \n",
              "\n",
              "   rh_superiorparietal_volume  rh_superiortemporal_volume  \\\n",
              "0                     12093.0                     11443.0   \n",
              "1                     10072.0                     10857.0   \n",
              "2                     10066.0                      9829.0   \n",
              "3                     10048.0                     11579.0   \n",
              "4                     11176.0                     11947.0   \n",
              "\n",
              "   rh_supramarginal_volume  rh_frontalpole_volume  rh_temporalpole_volume  \\\n",
              "0                   9684.0                 1127.0                  2677.0   \n",
              "1                   8617.0                  929.0                  2193.0   \n",
              "2                   8060.0                 1027.0                  1846.0   \n",
              "3                   7937.0                  793.0                  2549.0   \n",
              "4                   9539.0                 1252.0                  2578.0   \n",
              "\n",
              "   rh_transversetemporal_volume  rh_insula_volume  BrainSegVolNotVent  \\\n",
              "0                         971.0            7527.0           1038272.0   \n",
              "1                         744.0            5644.0            997010.0   \n",
              "2                         590.0            5985.0            961297.0   \n",
              "3                         822.0            6641.0            946245.0   \n",
              "4                         949.0            6346.0           1015920.0   \n",
              "\n",
              "         eTIV_y  AGE_GROUP  \n",
              "0  1.428096e+06          1  \n",
              "1  1.379130e+06          2  \n",
              "2  1.407561e+06          2  \n",
              "3  1.301911e+06          2  \n",
              "4  1.230259e+06          1  \n",
              "\n",
              "[5 rows x 141 columns]"
            ]
          },
          "metadata": {
            "tags": []
          },
          "execution_count": 4
        }
      ]
    },
    {
      "metadata": {
        "trusted": true,
        "_uuid": "37f221700e68caaa53eebf69cc485921675af0b5",
        "id": "o_8JVtux-mMx",
        "colab_type": "code",
        "outputId": "e62d2c82-14d1-4bd8-c9d8-1a8a9867cdbd",
        "colab": {
          "base_uri": "https://localhost:8080/",
          "height": 102
        }
      },
      "cell_type": "code",
      "source": [
        "train.info()"
      ],
      "execution_count": 0,
      "outputs": [
        {
          "output_type": "stream",
          "text": [
            "<class 'pandas.core.frame.DataFrame'>\n",
            "RangeIndex: 328 entries, 0 to 327\n",
            "Columns: 141 entries, IXI_ID to AGE_GROUP\n",
            "dtypes: float64(138), int64(3)\n",
            "memory usage: 361.4 KB\n"
          ],
          "name": "stdout"
        }
      ]
    },
    {
      "metadata": {
        "_uuid": "5abeafeadd6271716a40b27e9b141e152ca927d2",
        "id": "NB5dGd4T-mM0",
        "colab_type": "text"
      },
      "cell_type": "markdown",
      "source": [
        "## Datasett, test\n",
        "Slik ser test.csv ut. Merker oss at feature'en 'AGE_GROUP' mangler og antall kolonner i testsettet er derfor bare 140 "
      ]
    },
    {
      "metadata": {
        "trusted": true,
        "_uuid": "ab8522a5d576462e720c118e2f64472aeef17ad1",
        "id": "C38rmNBN-mM1",
        "colab_type": "code",
        "outputId": "f2f8fd11-4536-4598-d225-2096afe4e5e3",
        "colab": {
          "base_uri": "https://localhost:8080/",
          "height": 304
        }
      },
      "cell_type": "code",
      "source": [
        "test.head()"
      ],
      "execution_count": 0,
      "outputs": [
        {
          "output_type": "execute_result",
          "data": {
            "text/html": [
              "<div>\n",
              "<style scoped>\n",
              "    .dataframe tbody tr th:only-of-type {\n",
              "        vertical-align: middle;\n",
              "    }\n",
              "\n",
              "    .dataframe tbody tr th {\n",
              "        vertical-align: top;\n",
              "    }\n",
              "\n",
              "    .dataframe thead th {\n",
              "        text-align: right;\n",
              "    }\n",
              "</style>\n",
              "<table border=\"1\" class=\"dataframe\">\n",
              "  <thead>\n",
              "    <tr style=\"text-align: right;\">\n",
              "      <th></th>\n",
              "      <th>IXI_ID</th>\n",
              "      <th>Measure:volume</th>\n",
              "      <th>Left-Lateral-Ventricle</th>\n",
              "      <th>Left-Inf-Lat-Vent</th>\n",
              "      <th>Left-Cerebellum-White-Matter</th>\n",
              "      <th>Left-Cerebellum-Cortex</th>\n",
              "      <th>Left-Thalamus-Proper</th>\n",
              "      <th>Left-Caudate</th>\n",
              "      <th>Left-Putamen</th>\n",
              "      <th>Left-Pallidum</th>\n",
              "      <th>...</th>\n",
              "      <th>rh_superiorfrontal_volume</th>\n",
              "      <th>rh_superiorparietal_volume</th>\n",
              "      <th>rh_superiortemporal_volume</th>\n",
              "      <th>rh_supramarginal_volume</th>\n",
              "      <th>rh_frontalpole_volume</th>\n",
              "      <th>rh_temporalpole_volume</th>\n",
              "      <th>rh_transversetemporal_volume</th>\n",
              "      <th>rh_insula_volume</th>\n",
              "      <th>BrainSegVolNotVent</th>\n",
              "      <th>eTIV_y</th>\n",
              "    </tr>\n",
              "  </thead>\n",
              "  <tbody>\n",
              "    <tr>\n",
              "      <th>0</th>\n",
              "      <td>195</td>\n",
              "      <td>0</td>\n",
              "      <td>10539.6</td>\n",
              "      <td>179.5</td>\n",
              "      <td>21565.2</td>\n",
              "      <td>55995.4</td>\n",
              "      <td>10076.1</td>\n",
              "      <td>3368.1</td>\n",
              "      <td>5049.0</td>\n",
              "      <td>2186.8</td>\n",
              "      <td>...</td>\n",
              "      <td>26082.0</td>\n",
              "      <td>13102.0</td>\n",
              "      <td>13287.0</td>\n",
              "      <td>10999.0</td>\n",
              "      <td>1314.0</td>\n",
              "      <td>2695.0</td>\n",
              "      <td>916.0</td>\n",
              "      <td>8080.0</td>\n",
              "      <td>1330993.0</td>\n",
              "      <td>1.796701e+06</td>\n",
              "    </tr>\n",
              "    <tr>\n",
              "      <th>1</th>\n",
              "      <td>437</td>\n",
              "      <td>0</td>\n",
              "      <td>7934.2</td>\n",
              "      <td>67.0</td>\n",
              "      <td>17643.0</td>\n",
              "      <td>61900.5</td>\n",
              "      <td>6703.4</td>\n",
              "      <td>2859.9</td>\n",
              "      <td>4023.3</td>\n",
              "      <td>1804.2</td>\n",
              "      <td>...</td>\n",
              "      <td>17235.0</td>\n",
              "      <td>10405.0</td>\n",
              "      <td>10887.0</td>\n",
              "      <td>9297.0</td>\n",
              "      <td>921.0</td>\n",
              "      <td>2151.0</td>\n",
              "      <td>737.0</td>\n",
              "      <td>5859.0</td>\n",
              "      <td>1077120.0</td>\n",
              "      <td>1.528699e+06</td>\n",
              "    </tr>\n",
              "    <tr>\n",
              "      <th>2</th>\n",
              "      <td>278</td>\n",
              "      <td>0</td>\n",
              "      <td>3867.5</td>\n",
              "      <td>152.3</td>\n",
              "      <td>17218.8</td>\n",
              "      <td>68372.1</td>\n",
              "      <td>9886.3</td>\n",
              "      <td>3398.7</td>\n",
              "      <td>5372.3</td>\n",
              "      <td>2637.6</td>\n",
              "      <td>...</td>\n",
              "      <td>27369.0</td>\n",
              "      <td>14082.0</td>\n",
              "      <td>15206.0</td>\n",
              "      <td>12410.0</td>\n",
              "      <td>926.0</td>\n",
              "      <td>2225.0</td>\n",
              "      <td>939.0</td>\n",
              "      <td>8266.0</td>\n",
              "      <td>1321759.0</td>\n",
              "      <td>1.842491e+06</td>\n",
              "    </tr>\n",
              "    <tr>\n",
              "      <th>3</th>\n",
              "      <td>236</td>\n",
              "      <td>0</td>\n",
              "      <td>14641.5</td>\n",
              "      <td>388.6</td>\n",
              "      <td>16929.3</td>\n",
              "      <td>56363.7</td>\n",
              "      <td>9119.1</td>\n",
              "      <td>3651.7</td>\n",
              "      <td>5583.3</td>\n",
              "      <td>2332.2</td>\n",
              "      <td>...</td>\n",
              "      <td>23856.0</td>\n",
              "      <td>12845.0</td>\n",
              "      <td>11200.0</td>\n",
              "      <td>12732.0</td>\n",
              "      <td>1050.0</td>\n",
              "      <td>2415.0</td>\n",
              "      <td>1056.0</td>\n",
              "      <td>7435.0</td>\n",
              "      <td>1250661.0</td>\n",
              "      <td>1.676105e+06</td>\n",
              "    </tr>\n",
              "    <tr>\n",
              "      <th>4</th>\n",
              "      <td>250</td>\n",
              "      <td>0</td>\n",
              "      <td>10396.7</td>\n",
              "      <td>427.3</td>\n",
              "      <td>16073.2</td>\n",
              "      <td>48747.5</td>\n",
              "      <td>6637.4</td>\n",
              "      <td>3136.6</td>\n",
              "      <td>4102.0</td>\n",
              "      <td>2161.1</td>\n",
              "      <td>...</td>\n",
              "      <td>18983.0</td>\n",
              "      <td>11023.0</td>\n",
              "      <td>10563.0</td>\n",
              "      <td>9131.0</td>\n",
              "      <td>820.0</td>\n",
              "      <td>2370.0</td>\n",
              "      <td>843.0</td>\n",
              "      <td>6818.0</td>\n",
              "      <td>1110722.0</td>\n",
              "      <td>1.579444e+06</td>\n",
              "    </tr>\n",
              "  </tbody>\n",
              "</table>\n",
              "<p>5 rows × 140 columns</p>\n",
              "</div>"
            ],
            "text/plain": [
              "   IXI_ID  Measure:volume  Left-Lateral-Ventricle  Left-Inf-Lat-Vent  \\\n",
              "0     195               0                 10539.6              179.5   \n",
              "1     437               0                  7934.2               67.0   \n",
              "2     278               0                  3867.5              152.3   \n",
              "3     236               0                 14641.5              388.6   \n",
              "4     250               0                 10396.7              427.3   \n",
              "\n",
              "   Left-Cerebellum-White-Matter  Left-Cerebellum-Cortex  Left-Thalamus-Proper  \\\n",
              "0                       21565.2                 55995.4               10076.1   \n",
              "1                       17643.0                 61900.5                6703.4   \n",
              "2                       17218.8                 68372.1                9886.3   \n",
              "3                       16929.3                 56363.7                9119.1   \n",
              "4                       16073.2                 48747.5                6637.4   \n",
              "\n",
              "   Left-Caudate  Left-Putamen  Left-Pallidum      ...       \\\n",
              "0        3368.1        5049.0         2186.8      ...        \n",
              "1        2859.9        4023.3         1804.2      ...        \n",
              "2        3398.7        5372.3         2637.6      ...        \n",
              "3        3651.7        5583.3         2332.2      ...        \n",
              "4        3136.6        4102.0         2161.1      ...        \n",
              "\n",
              "   rh_superiorfrontal_volume  rh_superiorparietal_volume  \\\n",
              "0                    26082.0                     13102.0   \n",
              "1                    17235.0                     10405.0   \n",
              "2                    27369.0                     14082.0   \n",
              "3                    23856.0                     12845.0   \n",
              "4                    18983.0                     11023.0   \n",
              "\n",
              "   rh_superiortemporal_volume  rh_supramarginal_volume  rh_frontalpole_volume  \\\n",
              "0                     13287.0                  10999.0                 1314.0   \n",
              "1                     10887.0                   9297.0                  921.0   \n",
              "2                     15206.0                  12410.0                  926.0   \n",
              "3                     11200.0                  12732.0                 1050.0   \n",
              "4                     10563.0                   9131.0                  820.0   \n",
              "\n",
              "   rh_temporalpole_volume  rh_transversetemporal_volume  rh_insula_volume  \\\n",
              "0                  2695.0                         916.0            8080.0   \n",
              "1                  2151.0                         737.0            5859.0   \n",
              "2                  2225.0                         939.0            8266.0   \n",
              "3                  2415.0                        1056.0            7435.0   \n",
              "4                  2370.0                         843.0            6818.0   \n",
              "\n",
              "   BrainSegVolNotVent        eTIV_y  \n",
              "0           1330993.0  1.796701e+06  \n",
              "1           1077120.0  1.528699e+06  \n",
              "2           1321759.0  1.842491e+06  \n",
              "3           1250661.0  1.676105e+06  \n",
              "4           1110722.0  1.579444e+06  \n",
              "\n",
              "[5 rows x 140 columns]"
            ]
          },
          "metadata": {
            "tags": []
          },
          "execution_count": 6
        }
      ]
    },
    {
      "metadata": {
        "trusted": true,
        "_uuid": "021ba4ee767c3595e0089e30b6b9c038d451caaa",
        "id": "dM__FDVW-mM5",
        "colab_type": "code",
        "outputId": "12bd7cae-f05e-4458-f999-4a752f660237",
        "colab": {
          "base_uri": "https://localhost:8080/",
          "height": 102
        }
      },
      "cell_type": "code",
      "source": [
        "test.info()"
      ],
      "execution_count": 0,
      "outputs": [
        {
          "output_type": "stream",
          "text": [
            "<class 'pandas.core.frame.DataFrame'>\n",
            "RangeIndex: 141 entries, 0 to 140\n",
            "Columns: 140 entries, IXI_ID to eTIV_y\n",
            "dtypes: float64(138), int64(2)\n",
            "memory usage: 154.3 KB\n"
          ],
          "name": "stdout"
        }
      ]
    },
    {
      "metadata": {
        "_uuid": "a26e3640867e866368c5a1b4b0079ab531714d34",
        "id": "J0UMW6mZ-mM-",
        "colab_type": "text"
      },
      "cell_type": "markdown",
      "source": [
        "## Datasett, demografi (metadata)"
      ]
    },
    {
      "metadata": {
        "trusted": true,
        "_uuid": "dec2666d7464adc2a59d726f46a09ba0c282b43d",
        "id": "ijMP_Id5-mM_",
        "colab_type": "code",
        "outputId": "827503a3-8fa4-4925-ec4b-78ed7f0af946",
        "colab": {
          "base_uri": "https://localhost:8080/",
          "height": 2840
        }
      },
      "cell_type": "code",
      "source": [
        "demography"
      ],
      "execution_count": 0,
      "outputs": [
        {
          "output_type": "execute_result",
          "data": {
            "text/html": [
              "<div>\n",
              "<style scoped>\n",
              "    .dataframe tbody tr th:only-of-type {\n",
              "        vertical-align: middle;\n",
              "    }\n",
              "\n",
              "    .dataframe tbody tr th {\n",
              "        vertical-align: top;\n",
              "    }\n",
              "\n",
              "    .dataframe thead th {\n",
              "        text-align: right;\n",
              "    }\n",
              "</style>\n",
              "<table border=\"1\" class=\"dataframe\">\n",
              "  <thead>\n",
              "    <tr style=\"text-align: right;\">\n",
              "      <th></th>\n",
              "      <th>IXI_ID</th>\n",
              "      <th>SEX_ID (1=m, 2=f)</th>\n",
              "      <th>HEIGHT</th>\n",
              "      <th>WEIGHT</th>\n",
              "      <th>ETHNIC_ID</th>\n",
              "      <th>MARITAL_ID</th>\n",
              "      <th>OCCUPATION_ID</th>\n",
              "      <th>QUALIFICATION_ID</th>\n",
              "      <th>DOB</th>\n",
              "      <th>DATE_AVAILABLE</th>\n",
              "      <th>STUDY_DATE</th>\n",
              "      <th>AGE</th>\n",
              "    </tr>\n",
              "  </thead>\n",
              "  <tbody>\n",
              "    <tr>\n",
              "      <th>0</th>\n",
              "      <td>2</td>\n",
              "      <td>2</td>\n",
              "      <td>164</td>\n",
              "      <td>58</td>\n",
              "      <td>1</td>\n",
              "      <td>4</td>\n",
              "      <td>1</td>\n",
              "      <td>5</td>\n",
              "      <td>1970-01-30</td>\n",
              "      <td>1</td>\n",
              "      <td>2005-11-18</td>\n",
              "      <td>35.80</td>\n",
              "    </tr>\n",
              "    <tr>\n",
              "      <th>1</th>\n",
              "      <td>12</td>\n",
              "      <td>1</td>\n",
              "      <td>175</td>\n",
              "      <td>70</td>\n",
              "      <td>1</td>\n",
              "      <td>2</td>\n",
              "      <td>1</td>\n",
              "      <td>5</td>\n",
              "      <td>1966-08-20</td>\n",
              "      <td>1</td>\n",
              "      <td>2005-06-01</td>\n",
              "      <td>38.78</td>\n",
              "    </tr>\n",
              "    <tr>\n",
              "      <th>2</th>\n",
              "      <td>13</td>\n",
              "      <td>1</td>\n",
              "      <td>182</td>\n",
              "      <td>70</td>\n",
              "      <td>1</td>\n",
              "      <td>2</td>\n",
              "      <td>1</td>\n",
              "      <td>5</td>\n",
              "      <td>1958-09-15</td>\n",
              "      <td>1</td>\n",
              "      <td>2005-06-01</td>\n",
              "      <td>46.71</td>\n",
              "    </tr>\n",
              "    <tr>\n",
              "      <th>3</th>\n",
              "      <td>14</td>\n",
              "      <td>2</td>\n",
              "      <td>163</td>\n",
              "      <td>65</td>\n",
              "      <td>1</td>\n",
              "      <td>4</td>\n",
              "      <td>1</td>\n",
              "      <td>5</td>\n",
              "      <td>1971-03-15</td>\n",
              "      <td>1</td>\n",
              "      <td>2005-06-09</td>\n",
              "      <td>34.24</td>\n",
              "    </tr>\n",
              "    <tr>\n",
              "      <th>4</th>\n",
              "      <td>15</td>\n",
              "      <td>1</td>\n",
              "      <td>181</td>\n",
              "      <td>90</td>\n",
              "      <td>2</td>\n",
              "      <td>1</td>\n",
              "      <td>6</td>\n",
              "      <td>5</td>\n",
              "      <td>1981-03-11</td>\n",
              "      <td>1</td>\n",
              "      <td>2005-06-23</td>\n",
              "      <td>24.28</td>\n",
              "    </tr>\n",
              "    <tr>\n",
              "      <th>5</th>\n",
              "      <td>16</td>\n",
              "      <td>1</td>\n",
              "      <td>172</td>\n",
              "      <td>63</td>\n",
              "      <td>1</td>\n",
              "      <td>2</td>\n",
              "      <td>1</td>\n",
              "      <td>5</td>\n",
              "      <td>1950-04-24</td>\n",
              "      <td>1</td>\n",
              "      <td>2005-06-24</td>\n",
              "      <td>55.17</td>\n",
              "    </tr>\n",
              "    <tr>\n",
              "      <th>6</th>\n",
              "      <td>17</td>\n",
              "      <td>2</td>\n",
              "      <td>178</td>\n",
              "      <td>72</td>\n",
              "      <td>1</td>\n",
              "      <td>3</td>\n",
              "      <td>1</td>\n",
              "      <td>5</td>\n",
              "      <td>1976-05-21</td>\n",
              "      <td>1</td>\n",
              "      <td>2005-06-24</td>\n",
              "      <td>29.09</td>\n",
              "    </tr>\n",
              "    <tr>\n",
              "      <th>7</th>\n",
              "      <td>19</td>\n",
              "      <td>1</td>\n",
              "      <td>180</td>\n",
              "      <td>88</td>\n",
              "      <td>1</td>\n",
              "      <td>2</td>\n",
              "      <td>1</td>\n",
              "      <td>4</td>\n",
              "      <td>1946-11-02</td>\n",
              "      <td>1</td>\n",
              "      <td>2005-06-30</td>\n",
              "      <td>58.66</td>\n",
              "    </tr>\n",
              "    <tr>\n",
              "      <th>8</th>\n",
              "      <td>20</td>\n",
              "      <td>1</td>\n",
              "      <td>178</td>\n",
              "      <td>72</td>\n",
              "      <td>1</td>\n",
              "      <td>2</td>\n",
              "      <td>1</td>\n",
              "      <td>4</td>\n",
              "      <td>1966-01-05</td>\n",
              "      <td>1</td>\n",
              "      <td>2005-06-24</td>\n",
              "      <td>39.47</td>\n",
              "    </tr>\n",
              "    <tr>\n",
              "      <th>9</th>\n",
              "      <td>21</td>\n",
              "      <td>2</td>\n",
              "      <td>165</td>\n",
              "      <td>64</td>\n",
              "      <td>1</td>\n",
              "      <td>1</td>\n",
              "      <td>3</td>\n",
              "      <td>3</td>\n",
              "      <td>1983-12-06</td>\n",
              "      <td>1</td>\n",
              "      <td>2005-06-30</td>\n",
              "      <td>21.57</td>\n",
              "    </tr>\n",
              "    <tr>\n",
              "      <th>10</th>\n",
              "      <td>22</td>\n",
              "      <td>1</td>\n",
              "      <td>180</td>\n",
              "      <td>89</td>\n",
              "      <td>1</td>\n",
              "      <td>1</td>\n",
              "      <td>2</td>\n",
              "      <td>5</td>\n",
              "      <td>1974-10-22</td>\n",
              "      <td>1</td>\n",
              "      <td>2005-06-24</td>\n",
              "      <td>30.67</td>\n",
              "    </tr>\n",
              "    <tr>\n",
              "      <th>11</th>\n",
              "      <td>23</td>\n",
              "      <td>2</td>\n",
              "      <td>160</td>\n",
              "      <td>56</td>\n",
              "      <td>1</td>\n",
              "      <td>2</td>\n",
              "      <td>1</td>\n",
              "      <td>5</td>\n",
              "      <td>1972-05-26</td>\n",
              "      <td>1</td>\n",
              "      <td>2005-06-24</td>\n",
              "      <td>33.08</td>\n",
              "    </tr>\n",
              "    <tr>\n",
              "      <th>12</th>\n",
              "      <td>24</td>\n",
              "      <td>2</td>\n",
              "      <td>168</td>\n",
              "      <td>61</td>\n",
              "      <td>3</td>\n",
              "      <td>4</td>\n",
              "      <td>2</td>\n",
              "      <td>5</td>\n",
              "      <td>1967-10-19</td>\n",
              "      <td>1</td>\n",
              "      <td>2005-06-30</td>\n",
              "      <td>37.70</td>\n",
              "    </tr>\n",
              "    <tr>\n",
              "      <th>13</th>\n",
              "      <td>25</td>\n",
              "      <td>2</td>\n",
              "      <td>165</td>\n",
              "      <td>60</td>\n",
              "      <td>1</td>\n",
              "      <td>1</td>\n",
              "      <td>1</td>\n",
              "      <td>5</td>\n",
              "      <td>1976-04-10</td>\n",
              "      <td>1</td>\n",
              "      <td>2006-01-20</td>\n",
              "      <td>29.78</td>\n",
              "    </tr>\n",
              "    <tr>\n",
              "      <th>14</th>\n",
              "      <td>26</td>\n",
              "      <td>2</td>\n",
              "      <td>173</td>\n",
              "      <td>55</td>\n",
              "      <td>1</td>\n",
              "      <td>1</td>\n",
              "      <td>1</td>\n",
              "      <td>5</td>\n",
              "      <td>1970-12-31</td>\n",
              "      <td>1</td>\n",
              "      <td>2005-06-23</td>\n",
              "      <td>34.48</td>\n",
              "    </tr>\n",
              "    <tr>\n",
              "      <th>15</th>\n",
              "      <td>27</td>\n",
              "      <td>1</td>\n",
              "      <td>180</td>\n",
              "      <td>65</td>\n",
              "      <td>1</td>\n",
              "      <td>1</td>\n",
              "      <td>1</td>\n",
              "      <td>5</td>\n",
              "      <td>1975-02-06</td>\n",
              "      <td>1</td>\n",
              "      <td>2005-07-08</td>\n",
              "      <td>30.42</td>\n",
              "    </tr>\n",
              "    <tr>\n",
              "      <th>16</th>\n",
              "      <td>28</td>\n",
              "      <td>1</td>\n",
              "      <td>172</td>\n",
              "      <td>70</td>\n",
              "      <td>1</td>\n",
              "      <td>2</td>\n",
              "      <td>5</td>\n",
              "      <td>3</td>\n",
              "      <td>1932-08-11</td>\n",
              "      <td>1</td>\n",
              "      <td>2006-08-21</td>\n",
              "      <td>74.03</td>\n",
              "    </tr>\n",
              "    <tr>\n",
              "      <th>17</th>\n",
              "      <td>29</td>\n",
              "      <td>2</td>\n",
              "      <td>155</td>\n",
              "      <td>79</td>\n",
              "      <td>4</td>\n",
              "      <td>5</td>\n",
              "      <td>1</td>\n",
              "      <td>5</td>\n",
              "      <td>1946-08-29</td>\n",
              "      <td>1</td>\n",
              "      <td>2005-11-18</td>\n",
              "      <td>59.22</td>\n",
              "    </tr>\n",
              "    <tr>\n",
              "      <th>18</th>\n",
              "      <td>30</td>\n",
              "      <td>1</td>\n",
              "      <td>180</td>\n",
              "      <td>65</td>\n",
              "      <td>1</td>\n",
              "      <td>3</td>\n",
              "      <td>1</td>\n",
              "      <td>5</td>\n",
              "      <td>1974-01-21</td>\n",
              "      <td>1</td>\n",
              "      <td>2005-07-08</td>\n",
              "      <td>31.46</td>\n",
              "    </tr>\n",
              "    <tr>\n",
              "      <th>19</th>\n",
              "      <td>31</td>\n",
              "      <td>1</td>\n",
              "      <td>167</td>\n",
              "      <td>57</td>\n",
              "      <td>3</td>\n",
              "      <td>1</td>\n",
              "      <td>1</td>\n",
              "      <td>5</td>\n",
              "      <td>1974-08-31</td>\n",
              "      <td>1</td>\n",
              "      <td>2005-10-19</td>\n",
              "      <td>31.13</td>\n",
              "    </tr>\n",
              "    <tr>\n",
              "      <th>20</th>\n",
              "      <td>33</td>\n",
              "      <td>1</td>\n",
              "      <td>174</td>\n",
              "      <td>62</td>\n",
              "      <td>1</td>\n",
              "      <td>1</td>\n",
              "      <td>3</td>\n",
              "      <td>5</td>\n",
              "      <td>1980-09-17</td>\n",
              "      <td>1</td>\n",
              "      <td>2005-06-23</td>\n",
              "      <td>24.76</td>\n",
              "    </tr>\n",
              "    <tr>\n",
              "      <th>21</th>\n",
              "      <td>34</td>\n",
              "      <td>2</td>\n",
              "      <td>163</td>\n",
              "      <td>55</td>\n",
              "      <td>1</td>\n",
              "      <td>1</td>\n",
              "      <td>3</td>\n",
              "      <td>5</td>\n",
              "      <td>1981-02-18</td>\n",
              "      <td>1</td>\n",
              "      <td>2005-06-23</td>\n",
              "      <td>24.34</td>\n",
              "    </tr>\n",
              "    <tr>\n",
              "      <th>22</th>\n",
              "      <td>35</td>\n",
              "      <td>2</td>\n",
              "      <td>168</td>\n",
              "      <td>88</td>\n",
              "      <td>1</td>\n",
              "      <td>0</td>\n",
              "      <td>0</td>\n",
              "      <td>0</td>\n",
              "      <td>1968-12-22</td>\n",
              "      <td>1</td>\n",
              "      <td>2006-02-13</td>\n",
              "      <td>37.14</td>\n",
              "    </tr>\n",
              "    <tr>\n",
              "      <th>23</th>\n",
              "      <td>36</td>\n",
              "      <td>1</td>\n",
              "      <td>186</td>\n",
              "      <td>75</td>\n",
              "      <td>1</td>\n",
              "      <td>1</td>\n",
              "      <td>3</td>\n",
              "      <td>3</td>\n",
              "      <td>1982-01-18</td>\n",
              "      <td>1</td>\n",
              "      <td>2005-08-02</td>\n",
              "      <td>23.54</td>\n",
              "    </tr>\n",
              "    <tr>\n",
              "      <th>24</th>\n",
              "      <td>37</td>\n",
              "      <td>2</td>\n",
              "      <td>164</td>\n",
              "      <td>100</td>\n",
              "      <td>1</td>\n",
              "      <td>3</td>\n",
              "      <td>3</td>\n",
              "      <td>5</td>\n",
              "      <td>1968-04-14</td>\n",
              "      <td>1</td>\n",
              "      <td>2005-06-30</td>\n",
              "      <td>37.21</td>\n",
              "    </tr>\n",
              "    <tr>\n",
              "      <th>25</th>\n",
              "      <td>38</td>\n",
              "      <td>1</td>\n",
              "      <td>173</td>\n",
              "      <td>64</td>\n",
              "      <td>1</td>\n",
              "      <td>1</td>\n",
              "      <td>3</td>\n",
              "      <td>3</td>\n",
              "      <td>1984-03-09</td>\n",
              "      <td>1</td>\n",
              "      <td>2005-07-27</td>\n",
              "      <td>21.38</td>\n",
              "    </tr>\n",
              "    <tr>\n",
              "      <th>26</th>\n",
              "      <td>39</td>\n",
              "      <td>1</td>\n",
              "      <td>210</td>\n",
              "      <td>95</td>\n",
              "      <td>1</td>\n",
              "      <td>1</td>\n",
              "      <td>3</td>\n",
              "      <td>5</td>\n",
              "      <td>1982-02-16</td>\n",
              "      <td>1</td>\n",
              "      <td>2005-06-23</td>\n",
              "      <td>23.35</td>\n",
              "    </tr>\n",
              "    <tr>\n",
              "      <th>27</th>\n",
              "      <td>40</td>\n",
              "      <td>2</td>\n",
              "      <td>0</td>\n",
              "      <td>68</td>\n",
              "      <td>1</td>\n",
              "      <td>3</td>\n",
              "      <td>2</td>\n",
              "      <td>5</td>\n",
              "      <td>1961-06-18</td>\n",
              "      <td>1</td>\n",
              "      <td>2005-07-22</td>\n",
              "      <td>44.09</td>\n",
              "    </tr>\n",
              "    <tr>\n",
              "      <th>28</th>\n",
              "      <td>41</td>\n",
              "      <td>1</td>\n",
              "      <td>178</td>\n",
              "      <td>71</td>\n",
              "      <td>1</td>\n",
              "      <td>1</td>\n",
              "      <td>1</td>\n",
              "      <td>5</td>\n",
              "      <td>1978-02-16</td>\n",
              "      <td>1</td>\n",
              "      <td>2005-07-08</td>\n",
              "      <td>27.39</td>\n",
              "    </tr>\n",
              "    <tr>\n",
              "      <th>29</th>\n",
              "      <td>42</td>\n",
              "      <td>2</td>\n",
              "      <td>160</td>\n",
              "      <td>63</td>\n",
              "      <td>1</td>\n",
              "      <td>1</td>\n",
              "      <td>1</td>\n",
              "      <td>5</td>\n",
              "      <td>1977-09-25</td>\n",
              "      <td>1</td>\n",
              "      <td>2005-07-22</td>\n",
              "      <td>27.82</td>\n",
              "    </tr>\n",
              "    <tr>\n",
              "      <th>...</th>\n",
              "      <td>...</td>\n",
              "      <td>...</td>\n",
              "      <td>...</td>\n",
              "      <td>...</td>\n",
              "      <td>...</td>\n",
              "      <td>...</td>\n",
              "      <td>...</td>\n",
              "      <td>...</td>\n",
              "      <td>...</td>\n",
              "      <td>...</td>\n",
              "      <td>...</td>\n",
              "      <td>...</td>\n",
              "    </tr>\n",
              "    <tr>\n",
              "      <th>439</th>\n",
              "      <td>613</td>\n",
              "      <td>1</td>\n",
              "      <td>177</td>\n",
              "      <td>84</td>\n",
              "      <td>1</td>\n",
              "      <td>3</td>\n",
              "      <td>1</td>\n",
              "      <td>5</td>\n",
              "      <td>1981-04-16</td>\n",
              "      <td>1</td>\n",
              "      <td>2006-11-16</td>\n",
              "      <td>25.59</td>\n",
              "    </tr>\n",
              "    <tr>\n",
              "      <th>440</th>\n",
              "      <td>614</td>\n",
              "      <td>2</td>\n",
              "      <td>163</td>\n",
              "      <td>62</td>\n",
              "      <td>1</td>\n",
              "      <td>3</td>\n",
              "      <td>1</td>\n",
              "      <td>5</td>\n",
              "      <td>1979-12-12</td>\n",
              "      <td>1</td>\n",
              "      <td>2006-11-16</td>\n",
              "      <td>26.93</td>\n",
              "    </tr>\n",
              "    <tr>\n",
              "      <th>441</th>\n",
              "      <td>616</td>\n",
              "      <td>1</td>\n",
              "      <td>162</td>\n",
              "      <td>70</td>\n",
              "      <td>1</td>\n",
              "      <td>2</td>\n",
              "      <td>1</td>\n",
              "      <td>3</td>\n",
              "      <td>1951-10-05</td>\n",
              "      <td>1</td>\n",
              "      <td>2006-11-06</td>\n",
              "      <td>55.09</td>\n",
              "    </tr>\n",
              "    <tr>\n",
              "      <th>442</th>\n",
              "      <td>617</td>\n",
              "      <td>1</td>\n",
              "      <td>175</td>\n",
              "      <td>100</td>\n",
              "      <td>1</td>\n",
              "      <td>2</td>\n",
              "      <td>1</td>\n",
              "      <td>3</td>\n",
              "      <td>1967-09-03</td>\n",
              "      <td>1</td>\n",
              "      <td>2006-11-06</td>\n",
              "      <td>39.18</td>\n",
              "    </tr>\n",
              "    <tr>\n",
              "      <th>443</th>\n",
              "      <td>618</td>\n",
              "      <td>1</td>\n",
              "      <td>173</td>\n",
              "      <td>105</td>\n",
              "      <td>1</td>\n",
              "      <td>3</td>\n",
              "      <td>1</td>\n",
              "      <td>3</td>\n",
              "      <td>1968-11-24</td>\n",
              "      <td>1</td>\n",
              "      <td>2006-11-06</td>\n",
              "      <td>37.95</td>\n",
              "    </tr>\n",
              "    <tr>\n",
              "      <th>444</th>\n",
              "      <td>619</td>\n",
              "      <td>1</td>\n",
              "      <td>182</td>\n",
              "      <td>70</td>\n",
              "      <td>1</td>\n",
              "      <td>3</td>\n",
              "      <td>3</td>\n",
              "      <td>2</td>\n",
              "      <td>1982-01-01</td>\n",
              "      <td>1</td>\n",
              "      <td>2006-11-17</td>\n",
              "      <td>24.88</td>\n",
              "    </tr>\n",
              "    <tr>\n",
              "      <th>445</th>\n",
              "      <td>621</td>\n",
              "      <td>1</td>\n",
              "      <td>162</td>\n",
              "      <td>64</td>\n",
              "      <td>3</td>\n",
              "      <td>2</td>\n",
              "      <td>1</td>\n",
              "      <td>5</td>\n",
              "      <td>1975-04-09</td>\n",
              "      <td>1</td>\n",
              "      <td>2006-11-20</td>\n",
              "      <td>31.62</td>\n",
              "    </tr>\n",
              "    <tr>\n",
              "      <th>446</th>\n",
              "      <td>622</td>\n",
              "      <td>1</td>\n",
              "      <td>172</td>\n",
              "      <td>85</td>\n",
              "      <td>1</td>\n",
              "      <td>2</td>\n",
              "      <td>7</td>\n",
              "      <td>5</td>\n",
              "      <td>1947-03-15</td>\n",
              "      <td>1</td>\n",
              "      <td>2006-11-20</td>\n",
              "      <td>59.69</td>\n",
              "    </tr>\n",
              "    <tr>\n",
              "      <th>447</th>\n",
              "      <td>625</td>\n",
              "      <td>1</td>\n",
              "      <td>167</td>\n",
              "      <td>75</td>\n",
              "      <td>1</td>\n",
              "      <td>2</td>\n",
              "      <td>1</td>\n",
              "      <td>4</td>\n",
              "      <td>1959-10-23</td>\n",
              "      <td>1</td>\n",
              "      <td>2006-11-17</td>\n",
              "      <td>47.07</td>\n",
              "    </tr>\n",
              "    <tr>\n",
              "      <th>448</th>\n",
              "      <td>626</td>\n",
              "      <td>1</td>\n",
              "      <td>177</td>\n",
              "      <td>76</td>\n",
              "      <td>4</td>\n",
              "      <td>1</td>\n",
              "      <td>2</td>\n",
              "      <td>4</td>\n",
              "      <td>1942-08-04</td>\n",
              "      <td>1</td>\n",
              "      <td>2006-11-10</td>\n",
              "      <td>64.27</td>\n",
              "    </tr>\n",
              "    <tr>\n",
              "      <th>449</th>\n",
              "      <td>627</td>\n",
              "      <td>1</td>\n",
              "      <td>180</td>\n",
              "      <td>72</td>\n",
              "      <td>1</td>\n",
              "      <td>1</td>\n",
              "      <td>5</td>\n",
              "      <td>1</td>\n",
              "      <td>1938-05-27</td>\n",
              "      <td>1</td>\n",
              "      <td>2006-11-20</td>\n",
              "      <td>68.48</td>\n",
              "    </tr>\n",
              "    <tr>\n",
              "      <th>450</th>\n",
              "      <td>629</td>\n",
              "      <td>1</td>\n",
              "      <td>172</td>\n",
              "      <td>84</td>\n",
              "      <td>1</td>\n",
              "      <td>5</td>\n",
              "      <td>1</td>\n",
              "      <td>4</td>\n",
              "      <td>1947-08-13</td>\n",
              "      <td>1</td>\n",
              "      <td>2006-11-17</td>\n",
              "      <td>59.26</td>\n",
              "    </tr>\n",
              "    <tr>\n",
              "      <th>451</th>\n",
              "      <td>630</td>\n",
              "      <td>1</td>\n",
              "      <td>170</td>\n",
              "      <td>58</td>\n",
              "      <td>1</td>\n",
              "      <td>1</td>\n",
              "      <td>1</td>\n",
              "      <td>5</td>\n",
              "      <td>1952-03-21</td>\n",
              "      <td>1</td>\n",
              "      <td>2006-11-27</td>\n",
              "      <td>54.69</td>\n",
              "    </tr>\n",
              "    <tr>\n",
              "      <th>452</th>\n",
              "      <td>631</td>\n",
              "      <td>1</td>\n",
              "      <td>185</td>\n",
              "      <td>89</td>\n",
              "      <td>1</td>\n",
              "      <td>3</td>\n",
              "      <td>1</td>\n",
              "      <td>3</td>\n",
              "      <td>1965-07-14</td>\n",
              "      <td>1</td>\n",
              "      <td>2006-11-01</td>\n",
              "      <td>41.30</td>\n",
              "    </tr>\n",
              "    <tr>\n",
              "      <th>453</th>\n",
              "      <td>632</td>\n",
              "      <td>1</td>\n",
              "      <td>174</td>\n",
              "      <td>95</td>\n",
              "      <td>3</td>\n",
              "      <td>2</td>\n",
              "      <td>2</td>\n",
              "      <td>4</td>\n",
              "      <td>1950-05-25</td>\n",
              "      <td>1</td>\n",
              "      <td>2006-11-01</td>\n",
              "      <td>56.44</td>\n",
              "    </tr>\n",
              "    <tr>\n",
              "      <th>454</th>\n",
              "      <td>633</td>\n",
              "      <td>1</td>\n",
              "      <td>173</td>\n",
              "      <td>57</td>\n",
              "      <td>2</td>\n",
              "      <td>1</td>\n",
              "      <td>1</td>\n",
              "      <td>5</td>\n",
              "      <td>1970-02-23</td>\n",
              "      <td>1</td>\n",
              "      <td>2006-11-08</td>\n",
              "      <td>36.71</td>\n",
              "    </tr>\n",
              "    <tr>\n",
              "      <th>455</th>\n",
              "      <td>634</td>\n",
              "      <td>1</td>\n",
              "      <td>175</td>\n",
              "      <td>68</td>\n",
              "      <td>1</td>\n",
              "      <td>1</td>\n",
              "      <td>1</td>\n",
              "      <td>5</td>\n",
              "      <td>1972-10-18</td>\n",
              "      <td>1</td>\n",
              "      <td>2006-11-08</td>\n",
              "      <td>34.06</td>\n",
              "    </tr>\n",
              "    <tr>\n",
              "      <th>456</th>\n",
              "      <td>635</td>\n",
              "      <td>1</td>\n",
              "      <td>185</td>\n",
              "      <td>92</td>\n",
              "      <td>1</td>\n",
              "      <td>1</td>\n",
              "      <td>1</td>\n",
              "      <td>5</td>\n",
              "      <td>1981-04-28</td>\n",
              "      <td>1</td>\n",
              "      <td>2006-11-08</td>\n",
              "      <td>25.53</td>\n",
              "    </tr>\n",
              "    <tr>\n",
              "      <th>457</th>\n",
              "      <td>636</td>\n",
              "      <td>1</td>\n",
              "      <td>173</td>\n",
              "      <td>87</td>\n",
              "      <td>1</td>\n",
              "      <td>1</td>\n",
              "      <td>1</td>\n",
              "      <td>5</td>\n",
              "      <td>1963-09-20</td>\n",
              "      <td>1</td>\n",
              "      <td>2006-11-16</td>\n",
              "      <td>43.16</td>\n",
              "    </tr>\n",
              "    <tr>\n",
              "      <th>458</th>\n",
              "      <td>639</td>\n",
              "      <td>1</td>\n",
              "      <td>162</td>\n",
              "      <td>75</td>\n",
              "      <td>1</td>\n",
              "      <td>5</td>\n",
              "      <td>5</td>\n",
              "      <td>5</td>\n",
              "      <td>1920-08-22</td>\n",
              "      <td>1</td>\n",
              "      <td>2006-11-03</td>\n",
              "      <td>86.20</td>\n",
              "    </tr>\n",
              "    <tr>\n",
              "      <th>459</th>\n",
              "      <td>640</td>\n",
              "      <td>1</td>\n",
              "      <td>167</td>\n",
              "      <td>76</td>\n",
              "      <td>1</td>\n",
              "      <td>2</td>\n",
              "      <td>5</td>\n",
              "      <td>1</td>\n",
              "      <td>1926-02-04</td>\n",
              "      <td>1</td>\n",
              "      <td>2006-11-24</td>\n",
              "      <td>80.80</td>\n",
              "    </tr>\n",
              "    <tr>\n",
              "      <th>460</th>\n",
              "      <td>641</td>\n",
              "      <td>1</td>\n",
              "      <td>177</td>\n",
              "      <td>85</td>\n",
              "      <td>1</td>\n",
              "      <td>5</td>\n",
              "      <td>5</td>\n",
              "      <td>5</td>\n",
              "      <td>1938-10-10</td>\n",
              "      <td>1</td>\n",
              "      <td>2006-11-24</td>\n",
              "      <td>68.12</td>\n",
              "    </tr>\n",
              "    <tr>\n",
              "      <th>461</th>\n",
              "      <td>642</td>\n",
              "      <td>1</td>\n",
              "      <td>190</td>\n",
              "      <td>106</td>\n",
              "      <td>1</td>\n",
              "      <td>2</td>\n",
              "      <td>1</td>\n",
              "      <td>5</td>\n",
              "      <td>1949-10-30</td>\n",
              "      <td>1</td>\n",
              "      <td>2006-11-24</td>\n",
              "      <td>57.07</td>\n",
              "    </tr>\n",
              "    <tr>\n",
              "      <th>462</th>\n",
              "      <td>644</td>\n",
              "      <td>1</td>\n",
              "      <td>182</td>\n",
              "      <td>110</td>\n",
              "      <td>1</td>\n",
              "      <td>2</td>\n",
              "      <td>6</td>\n",
              "      <td>2</td>\n",
              "      <td>1950-01-19</td>\n",
              "      <td>1</td>\n",
              "      <td>2006-12-04</td>\n",
              "      <td>56.87</td>\n",
              "    </tr>\n",
              "    <tr>\n",
              "      <th>463</th>\n",
              "      <td>646</td>\n",
              "      <td>2</td>\n",
              "      <td>165</td>\n",
              "      <td>60</td>\n",
              "      <td>6</td>\n",
              "      <td>5</td>\n",
              "      <td>5</td>\n",
              "      <td>3</td>\n",
              "      <td>1935-08-18</td>\n",
              "      <td>1</td>\n",
              "      <td>2006-11-01</td>\n",
              "      <td>71.21</td>\n",
              "    </tr>\n",
              "    <tr>\n",
              "      <th>464</th>\n",
              "      <td>648</td>\n",
              "      <td>1</td>\n",
              "      <td>193</td>\n",
              "      <td>120</td>\n",
              "      <td>1</td>\n",
              "      <td>1</td>\n",
              "      <td>6</td>\n",
              "      <td>4</td>\n",
              "      <td>1959-03-08</td>\n",
              "      <td>1</td>\n",
              "      <td>2006-11-27</td>\n",
              "      <td>47.72</td>\n",
              "    </tr>\n",
              "    <tr>\n",
              "      <th>465</th>\n",
              "      <td>651</td>\n",
              "      <td>1</td>\n",
              "      <td>175</td>\n",
              "      <td>61</td>\n",
              "      <td>3</td>\n",
              "      <td>2</td>\n",
              "      <td>8</td>\n",
              "      <td>2</td>\n",
              "      <td>1956-07-09</td>\n",
              "      <td>1</td>\n",
              "      <td>2006-12-01</td>\n",
              "      <td>50.40</td>\n",
              "    </tr>\n",
              "    <tr>\n",
              "      <th>466</th>\n",
              "      <td>652</td>\n",
              "      <td>1</td>\n",
              "      <td>163</td>\n",
              "      <td>80</td>\n",
              "      <td>1</td>\n",
              "      <td>1</td>\n",
              "      <td>1</td>\n",
              "      <td>5</td>\n",
              "      <td>1963-12-05</td>\n",
              "      <td>1</td>\n",
              "      <td>2006-12-01</td>\n",
              "      <td>42.99</td>\n",
              "    </tr>\n",
              "    <tr>\n",
              "      <th>467</th>\n",
              "      <td>653</td>\n",
              "      <td>1</td>\n",
              "      <td>172</td>\n",
              "      <td>100</td>\n",
              "      <td>1</td>\n",
              "      <td>3</td>\n",
              "      <td>1</td>\n",
              "      <td>5</td>\n",
              "      <td>1960-09-14</td>\n",
              "      <td>1</td>\n",
              "      <td>2006-12-04</td>\n",
              "      <td>46.22</td>\n",
              "    </tr>\n",
              "    <tr>\n",
              "      <th>468</th>\n",
              "      <td>662</td>\n",
              "      <td>1</td>\n",
              "      <td>182</td>\n",
              "      <td>98</td>\n",
              "      <td>1</td>\n",
              "      <td>4</td>\n",
              "      <td>1</td>\n",
              "      <td>3</td>\n",
              "      <td>3/8/1965</td>\n",
              "      <td>1</td>\n",
              "      <td>2006-12-04</td>\n",
              "      <td>41.74</td>\n",
              "    </tr>\n",
              "  </tbody>\n",
              "</table>\n",
              "<p>469 rows × 12 columns</p>\n",
              "</div>"
            ],
            "text/plain": [
              "     IXI_ID  SEX_ID (1=m, 2=f)  HEIGHT  WEIGHT  ETHNIC_ID  MARITAL_ID  \\\n",
              "0         2                  2     164      58          1           4   \n",
              "1        12                  1     175      70          1           2   \n",
              "2        13                  1     182      70          1           2   \n",
              "3        14                  2     163      65          1           4   \n",
              "4        15                  1     181      90          2           1   \n",
              "5        16                  1     172      63          1           2   \n",
              "6        17                  2     178      72          1           3   \n",
              "7        19                  1     180      88          1           2   \n",
              "8        20                  1     178      72          1           2   \n",
              "9        21                  2     165      64          1           1   \n",
              "10       22                  1     180      89          1           1   \n",
              "11       23                  2     160      56          1           2   \n",
              "12       24                  2     168      61          3           4   \n",
              "13       25                  2     165      60          1           1   \n",
              "14       26                  2     173      55          1           1   \n",
              "15       27                  1     180      65          1           1   \n",
              "16       28                  1     172      70          1           2   \n",
              "17       29                  2     155      79          4           5   \n",
              "18       30                  1     180      65          1           3   \n",
              "19       31                  1     167      57          3           1   \n",
              "20       33                  1     174      62          1           1   \n",
              "21       34                  2     163      55          1           1   \n",
              "22       35                  2     168      88          1           0   \n",
              "23       36                  1     186      75          1           1   \n",
              "24       37                  2     164     100          1           3   \n",
              "25       38                  1     173      64          1           1   \n",
              "26       39                  1     210      95          1           1   \n",
              "27       40                  2       0      68          1           3   \n",
              "28       41                  1     178      71          1           1   \n",
              "29       42                  2     160      63          1           1   \n",
              "..      ...                ...     ...     ...        ...         ...   \n",
              "439     613                  1     177      84          1           3   \n",
              "440     614                  2     163      62          1           3   \n",
              "441     616                  1     162      70          1           2   \n",
              "442     617                  1     175     100          1           2   \n",
              "443     618                  1     173     105          1           3   \n",
              "444     619                  1     182      70          1           3   \n",
              "445     621                  1     162      64          3           2   \n",
              "446     622                  1     172      85          1           2   \n",
              "447     625                  1     167      75          1           2   \n",
              "448     626                  1     177      76          4           1   \n",
              "449     627                  1     180      72          1           1   \n",
              "450     629                  1     172      84          1           5   \n",
              "451     630                  1     170      58          1           1   \n",
              "452     631                  1     185      89          1           3   \n",
              "453     632                  1     174      95          3           2   \n",
              "454     633                  1     173      57          2           1   \n",
              "455     634                  1     175      68          1           1   \n",
              "456     635                  1     185      92          1           1   \n",
              "457     636                  1     173      87          1           1   \n",
              "458     639                  1     162      75          1           5   \n",
              "459     640                  1     167      76          1           2   \n",
              "460     641                  1     177      85          1           5   \n",
              "461     642                  1     190     106          1           2   \n",
              "462     644                  1     182     110          1           2   \n",
              "463     646                  2     165      60          6           5   \n",
              "464     648                  1     193     120          1           1   \n",
              "465     651                  1     175      61          3           2   \n",
              "466     652                  1     163      80          1           1   \n",
              "467     653                  1     172     100          1           3   \n",
              "468     662                  1     182      98          1           4   \n",
              "\n",
              "     OCCUPATION_ID  QUALIFICATION_ID         DOB  DATE_AVAILABLE  STUDY_DATE  \\\n",
              "0                1                 5  1970-01-30               1  2005-11-18   \n",
              "1                1                 5  1966-08-20               1  2005-06-01   \n",
              "2                1                 5  1958-09-15               1  2005-06-01   \n",
              "3                1                 5  1971-03-15               1  2005-06-09   \n",
              "4                6                 5  1981-03-11               1  2005-06-23   \n",
              "5                1                 5  1950-04-24               1  2005-06-24   \n",
              "6                1                 5  1976-05-21               1  2005-06-24   \n",
              "7                1                 4  1946-11-02               1  2005-06-30   \n",
              "8                1                 4  1966-01-05               1  2005-06-24   \n",
              "9                3                 3  1983-12-06               1  2005-06-30   \n",
              "10               2                 5  1974-10-22               1  2005-06-24   \n",
              "11               1                 5  1972-05-26               1  2005-06-24   \n",
              "12               2                 5  1967-10-19               1  2005-06-30   \n",
              "13               1                 5  1976-04-10               1  2006-01-20   \n",
              "14               1                 5  1970-12-31               1  2005-06-23   \n",
              "15               1                 5  1975-02-06               1  2005-07-08   \n",
              "16               5                 3  1932-08-11               1  2006-08-21   \n",
              "17               1                 5  1946-08-29               1  2005-11-18   \n",
              "18               1                 5  1974-01-21               1  2005-07-08   \n",
              "19               1                 5  1974-08-31               1  2005-10-19   \n",
              "20               3                 5  1980-09-17               1  2005-06-23   \n",
              "21               3                 5  1981-02-18               1  2005-06-23   \n",
              "22               0                 0  1968-12-22               1  2006-02-13   \n",
              "23               3                 3  1982-01-18               1  2005-08-02   \n",
              "24               3                 5  1968-04-14               1  2005-06-30   \n",
              "25               3                 3  1984-03-09               1  2005-07-27   \n",
              "26               3                 5  1982-02-16               1  2005-06-23   \n",
              "27               2                 5  1961-06-18               1  2005-07-22   \n",
              "28               1                 5  1978-02-16               1  2005-07-08   \n",
              "29               1                 5  1977-09-25               1  2005-07-22   \n",
              "..             ...               ...         ...             ...         ...   \n",
              "439              1                 5  1981-04-16               1  2006-11-16   \n",
              "440              1                 5  1979-12-12               1  2006-11-16   \n",
              "441              1                 3  1951-10-05               1  2006-11-06   \n",
              "442              1                 3  1967-09-03               1  2006-11-06   \n",
              "443              1                 3  1968-11-24               1  2006-11-06   \n",
              "444              3                 2  1982-01-01               1  2006-11-17   \n",
              "445              1                 5  1975-04-09               1  2006-11-20   \n",
              "446              7                 5  1947-03-15               1  2006-11-20   \n",
              "447              1                 4  1959-10-23               1  2006-11-17   \n",
              "448              2                 4  1942-08-04               1  2006-11-10   \n",
              "449              5                 1  1938-05-27               1  2006-11-20   \n",
              "450              1                 4  1947-08-13               1  2006-11-17   \n",
              "451              1                 5  1952-03-21               1  2006-11-27   \n",
              "452              1                 3  1965-07-14               1  2006-11-01   \n",
              "453              2                 4  1950-05-25               1  2006-11-01   \n",
              "454              1                 5  1970-02-23               1  2006-11-08   \n",
              "455              1                 5  1972-10-18               1  2006-11-08   \n",
              "456              1                 5  1981-04-28               1  2006-11-08   \n",
              "457              1                 5  1963-09-20               1  2006-11-16   \n",
              "458              5                 5  1920-08-22               1  2006-11-03   \n",
              "459              5                 1  1926-02-04               1  2006-11-24   \n",
              "460              5                 5  1938-10-10               1  2006-11-24   \n",
              "461              1                 5  1949-10-30               1  2006-11-24   \n",
              "462              6                 2  1950-01-19               1  2006-12-04   \n",
              "463              5                 3  1935-08-18               1  2006-11-01   \n",
              "464              6                 4  1959-03-08               1  2006-11-27   \n",
              "465              8                 2  1956-07-09               1  2006-12-01   \n",
              "466              1                 5  1963-12-05               1  2006-12-01   \n",
              "467              1                 5  1960-09-14               1  2006-12-04   \n",
              "468              1                 3    3/8/1965               1  2006-12-04   \n",
              "\n",
              "       AGE  \n",
              "0    35.80  \n",
              "1    38.78  \n",
              "2    46.71  \n",
              "3    34.24  \n",
              "4    24.28  \n",
              "5    55.17  \n",
              "6    29.09  \n",
              "7    58.66  \n",
              "8    39.47  \n",
              "9    21.57  \n",
              "10   30.67  \n",
              "11   33.08  \n",
              "12   37.70  \n",
              "13   29.78  \n",
              "14   34.48  \n",
              "15   30.42  \n",
              "16   74.03  \n",
              "17   59.22  \n",
              "18   31.46  \n",
              "19   31.13  \n",
              "20   24.76  \n",
              "21   24.34  \n",
              "22   37.14  \n",
              "23   23.54  \n",
              "24   37.21  \n",
              "25   21.38  \n",
              "26   23.35  \n",
              "27   44.09  \n",
              "28   27.39  \n",
              "29   27.82  \n",
              "..     ...  \n",
              "439  25.59  \n",
              "440  26.93  \n",
              "441  55.09  \n",
              "442  39.18  \n",
              "443  37.95  \n",
              "444  24.88  \n",
              "445  31.62  \n",
              "446  59.69  \n",
              "447  47.07  \n",
              "448  64.27  \n",
              "449  68.48  \n",
              "450  59.26  \n",
              "451  54.69  \n",
              "452  41.30  \n",
              "453  56.44  \n",
              "454  36.71  \n",
              "455  34.06  \n",
              "456  25.53  \n",
              "457  43.16  \n",
              "458  86.20  \n",
              "459  80.80  \n",
              "460  68.12  \n",
              "461  57.07  \n",
              "462  56.87  \n",
              "463  71.21  \n",
              "464  47.72  \n",
              "465  50.40  \n",
              "466  42.99  \n",
              "467  46.22  \n",
              "468  41.74  \n",
              "\n",
              "[469 rows x 12 columns]"
            ]
          },
          "metadata": {
            "tags": []
          },
          "execution_count": 14
        }
      ]
    },
    {
      "metadata": {
        "trusted": true,
        "_uuid": "fe2194e9d0b1d0f0d918bde4f1da2552716623f8",
        "id": "tqaj8NA7-mNC",
        "colab_type": "code",
        "outputId": "a8676fc3-a99b-4e01-d5bd-867ae9678101",
        "colab": {
          "base_uri": "https://localhost:8080/",
          "height": 306
        }
      },
      "cell_type": "code",
      "source": [
        "demography.info()"
      ],
      "execution_count": 0,
      "outputs": [
        {
          "output_type": "stream",
          "text": [
            "<class 'pandas.core.frame.DataFrame'>\n",
            "RangeIndex: 469 entries, 0 to 468\n",
            "Data columns (total 12 columns):\n",
            "IXI_ID               469 non-null int64\n",
            "SEX_ID (1=m, 2=f)    469 non-null int64\n",
            "HEIGHT               469 non-null int64\n",
            "WEIGHT               469 non-null int64\n",
            "ETHNIC_ID            469 non-null int64\n",
            "MARITAL_ID           469 non-null int64\n",
            "OCCUPATION_ID        469 non-null int64\n",
            "QUALIFICATION_ID     469 non-null int64\n",
            "DOB                  469 non-null object\n",
            "DATE_AVAILABLE       469 non-null int64\n",
            "STUDY_DATE           469 non-null object\n",
            "AGE                  469 non-null float64\n",
            "dtypes: float64(1), int64(9), object(2)\n",
            "memory usage: 44.0+ KB\n"
          ],
          "name": "stdout"
        }
      ]
    },
    {
      "metadata": {
        "_uuid": "4dc1a2bd4404fe24323155fd003ff2a180379932",
        "id": "1Y2WakUi-mND",
        "colab_type": "text"
      },
      "cell_type": "markdown",
      "source": [
        "## Datasett, merged\n",
        "Lager et nytt datasett med metadataene og treningsdata. Med dette datasettet kan vi f.eks. se på sammenhenger mellom kjønn og ventrikkelstørrelse, hvor veriene for disse er hentet fra hhv. demography og train."
      ]
    },
    {
      "metadata": {
        "trusted": true,
        "scrolled": true,
        "_uuid": "3c29c1c89dceb50411464bbcfad410e0be76b459",
        "id": "S4NwKHG2-mNF",
        "colab_type": "code",
        "outputId": "4965af52-8ca0-4f6f-873f-57984b00336e",
        "colab": {
          "base_uri": "https://localhost:8080/",
          "height": 372
        }
      },
      "cell_type": "code",
      "source": [
        "merged = pd.merge(demography, train, on='IXI_ID')\n",
        "merged.head()"
      ],
      "execution_count": 0,
      "outputs": [
        {
          "output_type": "execute_result",
          "data": {
            "text/html": [
              "<div>\n",
              "<style scoped>\n",
              "    .dataframe tbody tr th:only-of-type {\n",
              "        vertical-align: middle;\n",
              "    }\n",
              "\n",
              "    .dataframe tbody tr th {\n",
              "        vertical-align: top;\n",
              "    }\n",
              "\n",
              "    .dataframe thead th {\n",
              "        text-align: right;\n",
              "    }\n",
              "</style>\n",
              "<table border=\"1\" class=\"dataframe\">\n",
              "  <thead>\n",
              "    <tr style=\"text-align: right;\">\n",
              "      <th></th>\n",
              "      <th>IXI_ID</th>\n",
              "      <th>SEX_ID (1=m, 2=f)</th>\n",
              "      <th>HEIGHT</th>\n",
              "      <th>WEIGHT</th>\n",
              "      <th>ETHNIC_ID</th>\n",
              "      <th>MARITAL_ID</th>\n",
              "      <th>OCCUPATION_ID</th>\n",
              "      <th>QUALIFICATION_ID</th>\n",
              "      <th>DOB</th>\n",
              "      <th>DATE_AVAILABLE</th>\n",
              "      <th>...</th>\n",
              "      <th>rh_superiorparietal_volume</th>\n",
              "      <th>rh_superiortemporal_volume</th>\n",
              "      <th>rh_supramarginal_volume</th>\n",
              "      <th>rh_frontalpole_volume</th>\n",
              "      <th>rh_temporalpole_volume</th>\n",
              "      <th>rh_transversetemporal_volume</th>\n",
              "      <th>rh_insula_volume</th>\n",
              "      <th>BrainSegVolNotVent</th>\n",
              "      <th>eTIV_y</th>\n",
              "      <th>AGE_GROUP</th>\n",
              "    </tr>\n",
              "  </thead>\n",
              "  <tbody>\n",
              "    <tr>\n",
              "      <th>0</th>\n",
              "      <td>2</td>\n",
              "      <td>2</td>\n",
              "      <td>164</td>\n",
              "      <td>58</td>\n",
              "      <td>1</td>\n",
              "      <td>4</td>\n",
              "      <td>1</td>\n",
              "      <td>5</td>\n",
              "      <td>1970-01-30</td>\n",
              "      <td>1</td>\n",
              "      <td>...</td>\n",
              "      <td>13281.0</td>\n",
              "      <td>10730.0</td>\n",
              "      <td>9077.0</td>\n",
              "      <td>1049.0</td>\n",
              "      <td>2394.0</td>\n",
              "      <td>770.0</td>\n",
              "      <td>7277.0</td>\n",
              "      <td>1147266.0</td>\n",
              "      <td>1.545768e+06</td>\n",
              "      <td>0</td>\n",
              "    </tr>\n",
              "    <tr>\n",
              "      <th>1</th>\n",
              "      <td>12</td>\n",
              "      <td>1</td>\n",
              "      <td>175</td>\n",
              "      <td>70</td>\n",
              "      <td>1</td>\n",
              "      <td>2</td>\n",
              "      <td>1</td>\n",
              "      <td>5</td>\n",
              "      <td>1966-08-20</td>\n",
              "      <td>1</td>\n",
              "      <td>...</td>\n",
              "      <td>13707.0</td>\n",
              "      <td>13103.0</td>\n",
              "      <td>12594.0</td>\n",
              "      <td>1109.0</td>\n",
              "      <td>2496.0</td>\n",
              "      <td>857.0</td>\n",
              "      <td>8235.0</td>\n",
              "      <td>1323241.0</td>\n",
              "      <td>1.852688e+06</td>\n",
              "      <td>1</td>\n",
              "    </tr>\n",
              "    <tr>\n",
              "      <th>2</th>\n",
              "      <td>19</td>\n",
              "      <td>1</td>\n",
              "      <td>180</td>\n",
              "      <td>88</td>\n",
              "      <td>1</td>\n",
              "      <td>2</td>\n",
              "      <td>1</td>\n",
              "      <td>4</td>\n",
              "      <td>1946-11-02</td>\n",
              "      <td>1</td>\n",
              "      <td>...</td>\n",
              "      <td>11963.0</td>\n",
              "      <td>13352.0</td>\n",
              "      <td>11118.0</td>\n",
              "      <td>1212.0</td>\n",
              "      <td>3346.0</td>\n",
              "      <td>1070.0</td>\n",
              "      <td>7848.0</td>\n",
              "      <td>1214350.0</td>\n",
              "      <td>1.599052e+06</td>\n",
              "      <td>2</td>\n",
              "    </tr>\n",
              "    <tr>\n",
              "      <th>3</th>\n",
              "      <td>20</td>\n",
              "      <td>1</td>\n",
              "      <td>178</td>\n",
              "      <td>72</td>\n",
              "      <td>1</td>\n",
              "      <td>2</td>\n",
              "      <td>1</td>\n",
              "      <td>4</td>\n",
              "      <td>1966-01-05</td>\n",
              "      <td>1</td>\n",
              "      <td>...</td>\n",
              "      <td>14005.0</td>\n",
              "      <td>10488.0</td>\n",
              "      <td>11009.0</td>\n",
              "      <td>840.0</td>\n",
              "      <td>2956.0</td>\n",
              "      <td>869.0</td>\n",
              "      <td>7214.0</td>\n",
              "      <td>1249623.0</td>\n",
              "      <td>1.702720e+06</td>\n",
              "      <td>1</td>\n",
              "    </tr>\n",
              "    <tr>\n",
              "      <th>4</th>\n",
              "      <td>21</td>\n",
              "      <td>2</td>\n",
              "      <td>165</td>\n",
              "      <td>64</td>\n",
              "      <td>1</td>\n",
              "      <td>1</td>\n",
              "      <td>3</td>\n",
              "      <td>3</td>\n",
              "      <td>1983-12-06</td>\n",
              "      <td>1</td>\n",
              "      <td>...</td>\n",
              "      <td>14293.0</td>\n",
              "      <td>14062.0</td>\n",
              "      <td>10353.0</td>\n",
              "      <td>1126.0</td>\n",
              "      <td>2778.0</td>\n",
              "      <td>992.0</td>\n",
              "      <td>7134.0</td>\n",
              "      <td>1259980.0</td>\n",
              "      <td>1.715708e+06</td>\n",
              "      <td>0</td>\n",
              "    </tr>\n",
              "  </tbody>\n",
              "</table>\n",
              "<p>5 rows × 152 columns</p>\n",
              "</div>"
            ],
            "text/plain": [
              "   IXI_ID  SEX_ID (1=m, 2=f)  HEIGHT  WEIGHT  ETHNIC_ID  MARITAL_ID  \\\n",
              "0       2                  2     164      58          1           4   \n",
              "1      12                  1     175      70          1           2   \n",
              "2      19                  1     180      88          1           2   \n",
              "3      20                  1     178      72          1           2   \n",
              "4      21                  2     165      64          1           1   \n",
              "\n",
              "   OCCUPATION_ID  QUALIFICATION_ID         DOB  DATE_AVAILABLE    ...      \\\n",
              "0              1                 5  1970-01-30               1    ...       \n",
              "1              1                 5  1966-08-20               1    ...       \n",
              "2              1                 4  1946-11-02               1    ...       \n",
              "3              1                 4  1966-01-05               1    ...       \n",
              "4              3                 3  1983-12-06               1    ...       \n",
              "\n",
              "  rh_superiorparietal_volume  rh_superiortemporal_volume  \\\n",
              "0                    13281.0                     10730.0   \n",
              "1                    13707.0                     13103.0   \n",
              "2                    11963.0                     13352.0   \n",
              "3                    14005.0                     10488.0   \n",
              "4                    14293.0                     14062.0   \n",
              "\n",
              "   rh_supramarginal_volume  rh_frontalpole_volume  rh_temporalpole_volume  \\\n",
              "0                   9077.0                 1049.0                  2394.0   \n",
              "1                  12594.0                 1109.0                  2496.0   \n",
              "2                  11118.0                 1212.0                  3346.0   \n",
              "3                  11009.0                  840.0                  2956.0   \n",
              "4                  10353.0                 1126.0                  2778.0   \n",
              "\n",
              "   rh_transversetemporal_volume  rh_insula_volume  BrainSegVolNotVent  \\\n",
              "0                         770.0            7277.0           1147266.0   \n",
              "1                         857.0            8235.0           1323241.0   \n",
              "2                        1070.0            7848.0           1214350.0   \n",
              "3                         869.0            7214.0           1249623.0   \n",
              "4                         992.0            7134.0           1259980.0   \n",
              "\n",
              "         eTIV_y  AGE_GROUP  \n",
              "0  1.545768e+06          0  \n",
              "1  1.852688e+06          1  \n",
              "2  1.599052e+06          2  \n",
              "3  1.702720e+06          1  \n",
              "4  1.715708e+06          0  \n",
              "\n",
              "[5 rows x 152 columns]"
            ]
          },
          "metadata": {
            "tags": []
          },
          "execution_count": 10
        }
      ]
    },
    {
      "metadata": {
        "_uuid": "41b58d92e7d50610d49294297222dd9672460d2d",
        "id": "myPRp9sJ-mNJ",
        "colab_type": "text"
      },
      "cell_type": "markdown",
      "source": [
        "## Observasjoner hittil\n",
        "Vi ser at `train` er treningssettet med lablede data, `test` er testsettet uten lablede data og `demography` er metadata. \n",
        "\n",
        "De ulike features i datasettene er de uavhengige variablene, eller predictor variabler. Avhengig variabel (target) er \"Age Group\".\n",
        "\n",
        "`merged` vil vi bruke til å visualisere ulike sammenhenger i treningssettet. \n",
        "\n",
        "Vi bruker supervised learning ved at modellen benytter de lablede variablene i treningssettet til å finne hvilke features som best angir target i testsettet."
      ]
    },
    {
      "metadata": {
        "_uuid": "9e35fe09870b5bbc1f5b829ae17383b9e014ba20",
        "id": "E2XjlHy9-mNK",
        "colab_type": "text"
      },
      "cell_type": "markdown",
      "source": [
        "## Plots og videre utforskning"
      ]
    },
    {
      "metadata": {
        "_uuid": "2dcf4b1d1fcdb20e7aa30ca5fd71becac1aea478",
        "id": "5borXXQN-mNL",
        "colab_type": "text"
      },
      "cell_type": "markdown",
      "source": [
        "Her visualiserer vi noen sammenhenger fra datasettet 'merged'. "
      ]
    },
    {
      "metadata": {
        "_uuid": "ebaa090f367a1ce94a3b007e422b9870500f4b7e",
        "id": "wPu_YgBf-mNL",
        "colab_type": "text"
      },
      "cell_type": "markdown",
      "source": [
        "Hva er kjønnsfordelingen i datasettet?"
      ]
    },
    {
      "metadata": {
        "id": "h4BBs3aM-PdV",
        "colab_type": "code",
        "outputId": "b4b33f8f-2ac8-476f-c914-ec887cd6b616",
        "colab": {
          "base_uri": "https://localhost:8080/",
          "height": 475
        }
      },
      "cell_type": "code",
      "source": [
        "_, counts = np.unique(merged['SEX_ID (1=m, 2=f)'], return_counts=True)\n",
        "labels = ['Male = 1', 'Female = 2']\n",
        "f, (ax1, ax2) = plt.subplots(1, 2, figsize=(12,6))\n",
        "\n",
        "# Pie chart:\n",
        "ax1.pie(counts, explode=[0.1, 0.1], labels=labels, startangle=90, autopct='%1.1f%%', shadow=True)\n",
        "\n",
        "# Bar plot:\n",
        "sns.barplot(x=labels, y=counts, palette=\"deep\", ax=ax2)\n",
        "ax2.axhline(0, color=\"k\", clip_on=False)\n",
        "ax2.set_ylabel(\"Antall\")\n",
        "sns.despine(bottom=True)\n",
        "\n",
        "# Vis plots\n",
        "plt.tight_layout(h_pad=2)"
      ],
      "execution_count": 0,
      "outputs": [
        {
          "output_type": "stream",
          "text": [
            "/usr/local/lib/python3.6/dist-packages/seaborn/categorical.py:1428: FutureWarning: remove_na is deprecated and is a private function. Do not use.\n",
            "  stat_data = remove_na(group_data)\n"
          ],
          "name": "stderr"
        },
        {
          "output_type": "display_data",
          "data": {
            "image/png": "[encoded data removed]",
            "text/plain": [
              "<Figure size 864x432 with 2 Axes>"
            ]
          },
          "metadata": {
            "tags": []
          }
        }
      ]
    },
    {
      "metadata": {
        "trusted": true,
        "_uuid": "a8a74ce83c364b3f31a437219ef311f5c1a150de",
        "id": "GQD9SYhA-mNN",
        "colab_type": "code",
        "outputId": "108ee436-9e28-4e02-9b8e-d1ea6f689495",
        "colab": {
          "base_uri": "https://localhost:8080/",
          "height": 475
        }
      },
      "cell_type": "code",
      "source": [
        "_, counts = np.unique(train['AGE_GROUP'], return_counts=True)\n",
        "labels = ['aldersgr. 0', 'aldersgr. 1', 'aldersgr. 2']\n",
        "f, (ax1, ax2) = plt.subplots(1, 2, figsize=(12,6))\n",
        "\n",
        "# Pie chart:\n",
        "ax1.pie(counts, explode=[0.1, 0.1, 0.1], labels=labels, startangle=90, autopct='%1.1f%%', shadow=True)\n",
        "\n",
        "# Bar plot:\n",
        "sns.barplot(x=labels, y=counts, palette=\"deep\", ax=ax2)\n",
        "ax2.axhline(0, color=\"k\", clip_on=False)\n",
        "ax2.set_ylabel(\"Antall\")\n",
        "sns.despine(bottom=True)\n",
        "\n",
        "# Vis plots\n",
        "plt.tight_layout(h_pad=2)"
      ],
      "execution_count": 0,
      "outputs": [
        {
          "output_type": "stream",
          "text": [
            "/usr/local/lib/python3.6/dist-packages/seaborn/categorical.py:1428: FutureWarning: remove_na is deprecated and is a private function. Do not use.\n",
            "  stat_data = remove_na(group_data)\n"
          ],
          "name": "stderr"
        },
        {
          "output_type": "display_data",
          "data": {
            "image/png": "[encoded data removed]",
            "text/plain": [
              "<Figure size 864x432 with 2 Axes>"
            ]
          },
          "metadata": {
            "tags": []
          }
        }
      ]
    },
    {
      "metadata": {
        "id": "H9VcZDhVO-Zn",
        "colab_type": "text"
      },
      "cell_type": "markdown",
      "source": [
        "Hvordan er variasjonen av totalt hjernevolum som funksjon av kjønn?"
      ]
    },
    {
      "metadata": {
        "id": "ioZx8R-SOsiS",
        "colab_type": "code",
        "outputId": "044d771f-7594-46c6-cd2f-bf538776f0b4",
        "colab": {
          "base_uri": "https://localhost:8080/",
          "height": 330
        }
      },
      "cell_type": "code",
      "source": [
        "sns.boxplot(x='SEX_ID (1=m, 2=f)', y='EstimatedTotalIntraCranialVol', data=merged, width=0.3)"
      ],
      "execution_count": 0,
      "outputs": [
        {
          "output_type": "stream",
          "text": [
            "/usr/local/lib/python3.6/dist-packages/seaborn/categorical.py:454: FutureWarning: remove_na is deprecated and is a private function. Do not use.\n",
            "  box_data = remove_na(group_data)\n"
          ],
          "name": "stderr"
        },
        {
          "output_type": "execute_result",
          "data": {
            "text/plain": [
              "<matplotlib.axes._subplots.AxesSubplot at 0x7fb630a0d320>"
            ]
          },
          "metadata": {
            "tags": []
          },
          "execution_count": 13
        },
        {
          "output_type": "display_data",
          "data": {
            "image/png": "[encoded data removed]",
            "text/plain": [
              "<Figure size 432x288 with 1 Axes>"
            ]
          },
          "metadata": {
            "tags": []
          }
        }
      ]
    },
    {
      "metadata": {
        "id": "F_HnJKvWFojj",
        "colab_type": "code",
        "colab": {}
      },
      "cell_type": "code",
      "source": [
        "names = ['rh_insula_volume', 'lh_insula_volume', 'rh_superiorparietal_volume', 'Left-Hippocampus', 'Left-Amygdala', 'CSF', 'Left-Lateral-Ventricle', 'Left-Putamen', 'EstimatedTotalIntraCranialVol']\n"
      ],
      "execution_count": 0,
      "outputs": []
    },
    {
      "metadata": {
        "id": "8bv4KW8CFpDN",
        "colab_type": "code",
        "outputId": "ae8ebf8e-0999-4052-83f8-c315f9817afb",
        "colab": {
          "base_uri": "https://localhost:8080/",
          "height": 944
        }
      },
      "cell_type": "code",
      "source": [
        "%matplotlib inline\n",
        "\n",
        "fig, axes = plt.subplots(3,3, figsize=(15,15))\n",
        "ax = axes.ravel()\n",
        "for k, ch in enumerate(names):\n",
        "    merged.boxplot(column=[ch], by='AGE_GROUP', ax=ax[k])\n",
        "    ax[k].set_title(ch.upper())\n",
        "    ax[k].set(xlabel=\"\")\n",
        "plt.suptitle(\"Boxplot per Feature and Class\")    \n",
        "plt.show()"
      ],
      "execution_count": 0,
      "outputs": [
        {
          "output_type": "display_data",
          "data": {
            "image/png": "[encoded data removed]",
            "text/plain": [
              "<Figure size 1080x1080 with 9 Axes>"
            ]
          },
          "metadata": {
            "tags": []
          }
        }
      ]
    },
    {
      "metadata": {
        "id": "34zJeRknPMRk",
        "colab_type": "code",
        "outputId": "a7a2e759-1dc8-45a5-8946-73afb0fa9eaf",
        "colab": {
          "base_uri": "https://localhost:8080/",
          "height": 204
        }
      },
      "cell_type": "code",
      "source": [
        "col_names =  ['tot_insula_volume', 'tot_superiorparietal_volume', 'Tot-Hippocampus', 'Tot-Amygdala', 'Tot-Lateral-Ventricle', 'Tot-Putamen']\n",
        "df_total = pd.DataFrame(columns = col_names)\n",
        "\n",
        "for i in range(0, len(merged)): \n",
        "    df_total.loc[i] = [merged['rh_insula_volume'][i] + merged['lh_insula_volume'][i], \n",
        "                       merged['rh_superiorparietal_volume'][i] + merged['rh_superiorparietal_volume'][i], \n",
        "                       merged['Right-Hippocampus'][i] + merged['Left-Hippocampus'][i],\n",
        "                       merged['Right-Amygdala'][i] + merged['Left-Amygdala'][i],\n",
        "                       merged['Right-Lateral-Ventricle'][i] + merged['Left-Lateral-Ventricle'][i],\n",
        "                       merged['Right-Putamen'][i] + merged['Left-Putamen'][i]\n",
        "                      ]   \n",
        "df_total.head()"
      ],
      "execution_count": 0,
      "outputs": [
        {
          "output_type": "execute_result",
          "data": {
            "text/html": [
              "<div>\n",
              "<style scoped>\n",
              "    .dataframe tbody tr th:only-of-type {\n",
              "        vertical-align: middle;\n",
              "    }\n",
              "\n",
              "    .dataframe tbody tr th {\n",
              "        vertical-align: top;\n",
              "    }\n",
              "\n",
              "    .dataframe thead th {\n",
              "        text-align: right;\n",
              "    }\n",
              "</style>\n",
              "<table border=\"1\" class=\"dataframe\">\n",
              "  <thead>\n",
              "    <tr style=\"text-align: right;\">\n",
              "      <th></th>\n",
              "      <th>tot_insula_volume</th>\n",
              "      <th>tot_superiorparietal_volume</th>\n",
              "      <th>Tot-Hippocampus</th>\n",
              "      <th>Tot-Amygdala</th>\n",
              "      <th>Tot-Lateral-Ventricle</th>\n",
              "      <th>Tot-Putamen</th>\n",
              "    </tr>\n",
              "  </thead>\n",
              "  <tbody>\n",
              "    <tr>\n",
              "      <th>0</th>\n",
              "      <td>14203.0</td>\n",
              "      <td>26562.0</td>\n",
              "      <td>7767.0</td>\n",
              "      <td>3004.0</td>\n",
              "      <td>8548.3</td>\n",
              "      <td>9848.1</td>\n",
              "    </tr>\n",
              "    <tr>\n",
              "      <th>1</th>\n",
              "      <td>15809.0</td>\n",
              "      <td>27414.0</td>\n",
              "      <td>9646.9</td>\n",
              "      <td>4023.7</td>\n",
              "      <td>15973.1</td>\n",
              "      <td>9814.2</td>\n",
              "    </tr>\n",
              "    <tr>\n",
              "      <th>2</th>\n",
              "      <td>15089.0</td>\n",
              "      <td>23926.0</td>\n",
              "      <td>9103.5</td>\n",
              "      <td>3423.3</td>\n",
              "      <td>25009.2</td>\n",
              "      <td>6780.2</td>\n",
              "    </tr>\n",
              "    <tr>\n",
              "      <th>3</th>\n",
              "      <td>14547.0</td>\n",
              "      <td>28010.0</td>\n",
              "      <td>9216.4</td>\n",
              "      <td>4107.9</td>\n",
              "      <td>16928.9</td>\n",
              "      <td>11124.1</td>\n",
              "    </tr>\n",
              "    <tr>\n",
              "      <th>4</th>\n",
              "      <td>14539.0</td>\n",
              "      <td>28586.0</td>\n",
              "      <td>8426.8</td>\n",
              "      <td>3850.5</td>\n",
              "      <td>19592.2</td>\n",
              "      <td>9351.4</td>\n",
              "    </tr>\n",
              "  </tbody>\n",
              "</table>\n",
              "</div>"
            ],
            "text/plain": [
              "   tot_insula_volume  tot_superiorparietal_volume  Tot-Hippocampus  \\\n",
              "0            14203.0                      26562.0           7767.0   \n",
              "1            15809.0                      27414.0           9646.9   \n",
              "2            15089.0                      23926.0           9103.5   \n",
              "3            14547.0                      28010.0           9216.4   \n",
              "4            14539.0                      28586.0           8426.8   \n",
              "\n",
              "   Tot-Amygdala  Tot-Lateral-Ventricle  Tot-Putamen  \n",
              "0        3004.0                 8548.3       9848.1  \n",
              "1        4023.7                15973.1       9814.2  \n",
              "2        3423.3                25009.2       6780.2  \n",
              "3        4107.9                16928.9      11124.1  \n",
              "4        3850.5                19592.2       9351.4  "
            ]
          },
          "metadata": {
            "tags": []
          },
          "execution_count": 16
        }
      ]
    },
    {
      "metadata": {
        "id": "1BD5duHrXDVU",
        "colab_type": "code",
        "colab": {}
      },
      "cell_type": "code",
      "source": [
        "merged_exp = pd.concat([merged, df_total], axis=1)"
      ],
      "execution_count": 0,
      "outputs": []
    },
    {
      "metadata": {
        "id": "1PS0rB1CV3aJ",
        "colab_type": "code",
        "outputId": "0834ece8-00ea-4d11-d3c4-b417ab59cdfa",
        "colab": {
          "base_uri": "https://localhost:8080/",
          "height": 944
        }
      },
      "cell_type": "code",
      "source": [
        "%matplotlib inline\n",
        "\n",
        "fig, axes = plt.subplots(3,2, figsize=(15,15))\n",
        "ax = axes.ravel()\n",
        "for k, ch in enumerate(col_names):\n",
        "    merged_exp.boxplot(column=[ch], by='AGE_GROUP', ax=ax[k])\n",
        "    ax[k].set_title(ch.upper())\n",
        "    ax[k].set(xlabel=\"\")\n",
        "plt.suptitle(\"Boxplot per Feature and Class\")    \n",
        "plt.show()"
      ],
      "execution_count": 0,
      "outputs": [
        {
          "output_type": "display_data",
          "data": {
            "image/png": "[encoded data removed]",
            "text/plain": [
              "<Figure size 1080x1080 with 6 Axes>"
            ]
          },
          "metadata": {
            "tags": []
          }
        }
      ]
    },
    {
      "metadata": {
        "_uuid": "63f029d799c23ef45533635d0bdd42e4df83c461",
        "id": "2cO-M2db-mNX",
        "colab_type": "text"
      },
      "cell_type": "markdown",
      "source": [
        "# Hvilken prediksjonsmodell skal vi bruke?"
      ]
    },
    {
      "metadata": {
        "id": "-L_1I3XoPx2x",
        "colab_type": "text"
      },
      "cell_type": "markdown",
      "source": [
        "Vi angriper det som et klassifikasjonsproblem: \n",
        ">Er personen i aldersgruppe 0, 1 eller 2?"
      ]
    },
    {
      "metadata": {
        "id": "8BNStkDzPl7H",
        "colab_type": "text"
      },
      "cell_type": "markdown",
      "source": [
        "## Random forests, vanlig"
      ]
    },
    {
      "metadata": {
        "id": "jOON0NqnPp4A",
        "colab_type": "code",
        "colab": {}
      },
      "cell_type": "code",
      "source": [
        "X = train.drop(['AGE_GROUP'],axis=1)\n",
        "y = train['AGE_GROUP']\n",
        "\n",
        "from sklearn.model_selection import train_test_split\n",
        "X_train, X_val, y_train, y_val = train_test_split(X, y, random_state=42)\n",
        "\n",
        "from sklearn.ensemble import RandomForestClassifier\n",
        "rf = RandomForestClassifier(n_estimators=100, random_state=42, n_jobs=-1)"
      ],
      "execution_count": 0,
      "outputs": []
    },
    {
      "metadata": {
        "id": "KaxwBjAZQNs6",
        "colab_type": "code",
        "outputId": "d5642168-eed1-4222-f503-c4758ddf0365",
        "colab": {
          "base_uri": "https://localhost:8080/",
          "height": 34
        }
      },
      "cell_type": "code",
      "source": [
        "rf.fit(X_train, y_train)\n",
        "y_pred_val = rf.predict(X_val)\n",
        "from sklearn.metrics import accuracy_score\n",
        "accuracy_score(y_val, y_pred_val)"
      ],
      "execution_count": 0,
      "outputs": [
        {
          "output_type": "execute_result",
          "data": {
            "text/plain": [
              "0.6585365853658537"
            ]
          },
          "metadata": {
            "tags": []
          },
          "execution_count": 20
        }
      ]
    },
    {
      "metadata": {
        "id": "ZzjA4yTwRDjf",
        "colab_type": "text"
      },
      "cell_type": "markdown",
      "source": [
        "Kjører cross-validation"
      ]
    },
    {
      "metadata": {
        "id": "t1ssmEdZRFTx",
        "colab_type": "code",
        "outputId": "436960d8-d8db-428a-c838-3bb37bbbc61a",
        "colab": {
          "base_uri": "https://localhost:8080/",
          "height": 51
        }
      },
      "cell_type": "code",
      "source": [
        "from sklearn.model_selection import cross_val_score\n",
        "\n",
        "scores = cross_val_score(rf, X, y, cv=5)\n",
        "print(scores)\n",
        "print(scores.mean())"
      ],
      "execution_count": 0,
      "outputs": [
        {
          "output_type": "stream",
          "text": [
            "[0.71212121 0.62121212 0.66666667 0.72307692 0.6       ]\n",
            "0.6646153846153846\n"
          ],
          "name": "stdout"
        }
      ]
    },
    {
      "metadata": {
        "id": "kymd6-aDQAwc",
        "colab_type": "code",
        "colab": {}
      },
      "cell_type": "code",
      "source": [
        "y_pred_rf = rf.predict(test)\n",
        "submission_rf = pd.DataFrame({'IXI_IDX': test['IXI_ID'], 'label': y_pred_rf})\n",
        "submission_rf.to_csv('submission_rf.csv', index=False)"
      ],
      "execution_count": 0,
      "outputs": []
    },
    {
      "metadata": {
        "id": "ZYc-c2AjSaIB",
        "colab_type": "text"
      },
      "cell_type": "markdown",
      "source": [
        "## Linear model"
      ]
    },
    {
      "metadata": {
        "id": "IxTVC2sKSbwC",
        "colab_type": "code",
        "outputId": "c7662f07-905a-4c67-8c61-1e792e036300",
        "colab": {
          "base_uri": "https://localhost:8080/",
          "height": 34
        }
      },
      "cell_type": "code",
      "source": [
        "from sklearn import linear_model\n",
        "\n",
        "lm_clf = linear_model.SGDClassifier(max_iter=1000, tol=1e-3)\n",
        "lm_clf.fit(X_train,y_train)\n",
        "\n",
        "lm_clf.score(X_val, y_val)"
      ],
      "execution_count": 0,
      "outputs": [
        {
          "output_type": "execute_result",
          "data": {
            "text/plain": [
              "0.4024390243902439"
            ]
          },
          "metadata": {
            "tags": []
          },
          "execution_count": 23
        }
      ]
    },
    {
      "metadata": {
        "id": "kNOfqIW4EeL4",
        "colab_type": "text"
      },
      "cell_type": "markdown",
      "source": [
        "## DNN"
      ]
    },
    {
      "metadata": {
        "trusted": true,
        "_uuid": "c064cf5f1af54294f612e5ef03a4ef992d5a8e44",
        "id": "xo96v-xv-mN7",
        "colab_type": "code",
        "outputId": "1d4ea287-64df-4e47-e5d1-11db37e3ce22",
        "colab": {
          "base_uri": "https://localhost:8080/",
          "height": 34
        }
      },
      "cell_type": "code",
      "source": [
        "from keras.models import Sequential\n",
        "from keras.layers import Dense"
      ],
      "execution_count": 0,
      "outputs": [
        {
          "output_type": "stream",
          "text": [
            "Using TensorFlow backend.\n"
          ],
          "name": "stderr"
        }
      ]
    },
    {
      "metadata": {
        "trusted": true,
        "_uuid": "532faa0e817944092be60993525455110ea94058",
        "id": "I23aKXUs-mN-",
        "colab_type": "code",
        "colab": {}
      },
      "cell_type": "code",
      "source": [
        "from keras.utils.np_utils import to_categorical\n",
        "#X_train.shape\n",
        "\n",
        "np.random.seed(7)\n",
        "Y_train = to_categorical(y_train, 3)\n",
        "Y_test = to_categorical(y_val, 3)"
      ],
      "execution_count": 0,
      "outputs": []
    },
    {
      "metadata": {
        "trusted": true,
        "_uuid": "df18cec1912dfe642306104cf7da72b0af406112",
        "id": "0aOOKIAY-mOA",
        "colab_type": "code",
        "colab": {}
      },
      "cell_type": "code",
      "source": [
        "# create model\n",
        "model = Sequential()\n",
        "model.add(Dense(10, input_dim=140, activation='relu'))\n",
        "model.add(Dense(15, activation='relu'))\n",
        "model.add(Dense(3, activation='softmax'))\n"
      ],
      "execution_count": 0,
      "outputs": []
    },
    {
      "metadata": {
        "trusted": true,
        "_uuid": "73e2f549c889414ca123ed923005e612f35d38cf",
        "id": "7YxAbZA3-mOD",
        "colab_type": "code",
        "colab": {}
      },
      "cell_type": "code",
      "source": [
        "model.compile(loss='binary_crossentropy', optimizer='adam', metrics=['accuracy'])"
      ],
      "execution_count": 0,
      "outputs": []
    },
    {
      "metadata": {
        "trusted": true,
        "_uuid": "5282ff4cf2d0fed5b640b01b02e11a7a2d0a35d3",
        "id": "I4FOv2ud-mOF",
        "colab_type": "code",
        "outputId": "e5b212b7-97be-4c17-e100-1ec269f1468e",
        "colab": {
          "base_uri": "https://localhost:8080/",
          "height": 204
        }
      },
      "cell_type": "code",
      "source": [
        "model.fit(X_train, Y_train, epochs=5, batch_size=5)"
      ],
      "execution_count": 0,
      "outputs": [
        {
          "output_type": "stream",
          "text": [
            "Epoch 1/5\n",
            "246/246 [==============================] - 0s 1ms/step - loss: 5.4303 - acc: 0.6612\n",
            "Epoch 2/5\n",
            "246/246 [==============================] - 0s 267us/step - loss: 5.4303 - acc: 0.6612\n",
            "Epoch 3/5\n",
            "246/246 [==============================] - 0s 269us/step - loss: 5.4303 - acc: 0.6612\n",
            "Epoch 4/5\n",
            "246/246 [==============================] - 0s 285us/step - loss: 5.4303 - acc: 0.6612\n",
            "Epoch 5/5\n",
            "246/246 [==============================] - 0s 284us/step - loss: 5.4303 - acc: 0.6612\n"
          ],
          "name": "stdout"
        },
        {
          "output_type": "execute_result",
          "data": {
            "text/plain": [
              "<keras.callbacks.History at 0x7fb630adb5c0>"
            ]
          },
          "metadata": {
            "tags": []
          },
          "execution_count": 28
        }
      ]
    },
    {
      "metadata": {
        "trusted": true,
        "_uuid": "5de5d50fdd55a3cdcc11d68326e03b56aa005309",
        "id": "RibbytgE-mOH",
        "colab_type": "code",
        "outputId": "c3beb0e1-ec94-4e65-d96a-6fc246bd0e7e",
        "colab": {
          "base_uri": "https://localhost:8080/",
          "height": 68
        }
      },
      "cell_type": "code",
      "source": [
        "\n",
        "# evaluate the model\n",
        "scores = model.evaluate(X_val, Y_test)\n",
        "print(\"\\n%s: %.2f%%\" % (model.metrics_names[1], scores[1]*100))\n"
      ],
      "execution_count": 0,
      "outputs": [
        {
          "output_type": "stream",
          "text": [
            "82/82 [==============================] - 0s 417us/step\n",
            "\n",
            "acc: 69.11%\n"
          ],
          "name": "stdout"
        }
      ]
    },
    {
      "metadata": {
        "trusted": true,
        "_uuid": "eeefa9abefe4909cf32cbc270866bff69bc63176",
        "id": "vWoeDGkk-mOL",
        "colab_type": "code",
        "outputId": "8d79d8e3-c9cf-476a-e324-19a0aadf6af2",
        "colab": {
          "base_uri": "https://localhost:8080/",
          "height": 102
        }
      },
      "cell_type": "code",
      "source": [
        "predictions = model.predict(X_val)\n",
        "predictions[:5]"
      ],
      "execution_count": 0,
      "outputs": [
        {
          "output_type": "execute_result",
          "data": {
            "text/plain": [
              "array([[1., 0., 0.],\n",
              "       [1., 0., 0.],\n",
              "       [1., 0., 0.],\n",
              "       [0., 0., 1.],\n",
              "       [0., 0., 1.]], dtype=float32)"
            ]
          },
          "metadata": {
            "tags": []
          },
          "execution_count": 30
        }
      ]
    },
    {
      "metadata": {
        "trusted": true,
        "_uuid": "bf7dda3207827c7965e85424c96ef59014c79f3f",
        "id": "J3AltO-i-mOP",
        "colab_type": "code",
        "outputId": "c4d289a3-0d96-4031-a5cf-b26c1af07b3b",
        "colab": {
          "base_uri": "https://localhost:8080/",
          "height": 54
        }
      },
      "cell_type": "code",
      "source": [
        "pred_nn = []\n",
        "for i in predictions:\n",
        "    for j in range(0, len(i)):        \n",
        "        if(i[j]==1.0):\n",
        "            pred_nn.append(j)\n",
        "            \n",
        "print(pred_nn)"
      ],
      "execution_count": 0,
      "outputs": [
        {
          "output_type": "stream",
          "text": [
            "[0, 0, 0, 2, 2, 2, 0, 2, 0, 0, 2, 0, 2, 2, 2, 0, 0, 0, 0, 2, 2, 0, 2, 0, 0, 0, 0, 0, 0, 2, 0, 0, 0, 0, 2, 0, 2, 0, 2, 0, 0, 2, 0, 2, 0, 2, 0, 2, 2, 2, 0, 2, 0, 2, 0, 2, 2, 2, 2, 2, 0, 0, 2, 0, 0, 2, 2, 2, 0, 2, 2, 2, 2, 0, 2, 0, 0, 0, 2, 2, 2, 0]\n"
          ],
          "name": "stdout"
        }
      ]
    },
    {
      "metadata": {
        "id": "dTNaj9C8phRn",
        "colab_type": "code",
        "outputId": "0e94bd0c-6c12-4bec-842a-5634e97fb24d",
        "colab": {
          "base_uri": "https://localhost:8080/",
          "height": 136
        }
      },
      "cell_type": "code",
      "source": [
        "from sklearn.neural_network import MLPClassifier\n",
        "\n",
        "nn_clf = MLPClassifier(hidden_layer_sizes=(100, 100), solver='lbfgs')\n",
        "\n",
        "nn_clf.fit (X_train, y_train)"
      ],
      "execution_count": 0,
      "outputs": [
        {
          "output_type": "execute_result",
          "data": {
            "text/plain": [
              "MLPClassifier(activation='relu', alpha=0.0001, batch_size='auto', beta_1=0.9,\n",
              "       beta_2=0.999, early_stopping=False, epsilon=1e-08,\n",
              "       hidden_layer_sizes=(100, 100), learning_rate='constant',\n",
              "       learning_rate_init=0.001, max_iter=200, momentum=0.9,\n",
              "       n_iter_no_change=10, nesterovs_momentum=True, power_t=0.5,\n",
              "       random_state=None, shuffle=True, solver='lbfgs', tol=0.0001,\n",
              "       validation_fraction=0.1, verbose=False, warm_start=False)"
            ]
          },
          "metadata": {
            "tags": []
          },
          "execution_count": 32
        }
      ]
    },
    {
      "metadata": {
        "id": "sJs_Xm-vrcgb",
        "colab_type": "code",
        "outputId": "a298f434-c30c-45ef-f660-4c1a754c59f5",
        "colab": {
          "base_uri": "https://localhost:8080/",
          "height": 34
        }
      },
      "cell_type": "code",
      "source": [
        "nn_clf.score(X_val, y_val)"
      ],
      "execution_count": 0,
      "outputs": [
        {
          "output_type": "execute_result",
          "data": {
            "text/plain": [
              "0.35365853658536583"
            ]
          },
          "metadata": {
            "tags": []
          },
          "execution_count": 33
        }
      ]
    },
    {
      "metadata": {
        "id": "28Wk5XiMrkg_",
        "colab_type": "code",
        "outputId": "dbab9a91-585e-40ec-b7b8-811a75f8a682",
        "colab": {
          "base_uri": "https://localhost:8080/",
          "height": 136
        }
      },
      "cell_type": "code",
      "source": [
        "nn_predict=nn_clf.predict(test)\n",
        "nn_predict"
      ],
      "execution_count": 0,
      "outputs": [
        {
          "output_type": "execute_result",
          "data": {
            "text/plain": [
              "array([2, 2, 2, 2, 2, 2, 2, 2, 2, 2, 2, 2, 2, 2, 2, 2, 2, 2, 2, 2, 2, 2,\n",
              "       2, 2, 2, 2, 2, 2, 2, 2, 2, 2, 2, 2, 2, 2, 2, 1, 2, 2, 2, 2, 2, 2,\n",
              "       2, 2, 2, 2, 2, 2, 2, 2, 2, 2, 2, 2, 2, 2, 2, 2, 2, 2, 2, 2, 2, 2,\n",
              "       2, 2, 2, 2, 2, 2, 2, 2, 2, 2, 2, 2, 2, 2, 2, 2, 2, 2, 2, 2, 2, 2,\n",
              "       2, 2, 2, 2, 2, 2, 2, 2, 2, 2, 2, 1, 2, 2, 2, 2, 2, 2, 2, 2, 1, 2,\n",
              "       2, 2, 2, 2, 2, 2, 2, 2, 2, 2, 2, 2, 2, 2, 2, 2, 2, 2, 2, 2, 2, 2,\n",
              "       2, 2, 2, 2, 2, 2, 2, 2, 1])"
            ]
          },
          "metadata": {
            "tags": []
          },
          "execution_count": 34
        }
      ]
    },
    {
      "metadata": {
        "id": "7t3m6BPAdDaM",
        "colab_type": "text"
      },
      "cell_type": "markdown",
      "source": [
        "## XgBoost"
      ]
    },
    {
      "metadata": {
        "id": "KGCe1UQddI4M",
        "colab_type": "code",
        "outputId": "b38b3d63-6564-4c95-ca64-57e3e6f6c24a",
        "colab": {
          "base_uri": "https://localhost:8080/",
          "height": 68
        }
      },
      "cell_type": "code",
      "source": [
        "!pip install xgboost"
      ],
      "execution_count": 0,
      "outputs": [
        {
          "output_type": "stream",
          "text": [
            "Requirement already satisfied: xgboost in /usr/local/lib/python3.6/dist-packages (0.7.post4)\n",
            "Requirement already satisfied: numpy in /usr/local/lib/python3.6/dist-packages (from xgboost) (1.14.6)\n",
            "Requirement already satisfied: scipy in /usr/local/lib/python3.6/dist-packages (from xgboost) (1.1.0)\n"
          ],
          "name": "stdout"
        }
      ]
    },
    {
      "metadata": {
        "id": "KDnZlMDQdG-E",
        "colab_type": "code",
        "outputId": "6781673b-4727-472d-f44c-ca2799a8e390",
        "colab": {
          "base_uri": "https://localhost:8080/",
          "height": 34
        }
      },
      "cell_type": "code",
      "source": [
        "from xgboost import XGBClassifier\n",
        "xgb_clf = XGBClassifier()\n",
        "xgb_clf.fit(X_train, y_train)\n",
        "xgb_clf.score(X_val, y_val)"
      ],
      "execution_count": 0,
      "outputs": [
        {
          "output_type": "execute_result",
          "data": {
            "text/plain": [
              "0.6829268292682927"
            ]
          },
          "metadata": {
            "tags": []
          },
          "execution_count": 36
        }
      ]
    },
    {
      "metadata": {
        "id": "_I5VMu-3dNO3",
        "colab_type": "code",
        "colab": {}
      },
      "cell_type": "code",
      "source": [
        "y_pred_xgb = xgb_clf.predict(test)"
      ],
      "execution_count": 0,
      "outputs": []
    },
    {
      "metadata": {
        "id": "4ZM4wXygdl1y",
        "colab_type": "code",
        "colab": {}
      },
      "cell_type": "code",
      "source": [
        "submission_rf = pd.DataFrame({'IXI_IDX': test['IXI_ID'], 'label': y_pred_xgb})\n",
        "submission_rf.to_csv('submission_xgb.csv', index=False)\n",
        "\n",
        "#from google.colab import files\n",
        "#files.download('submission_xgb.csv')"
      ],
      "execution_count": 0,
      "outputs": []
    },
    {
      "metadata": {
        "id": "3nAohXENTIr0",
        "colab_type": "text"
      },
      "cell_type": "markdown",
      "source": [
        "# Optimalisering av RF"
      ]
    },
    {
      "metadata": {
        "_uuid": "ce35519585f859921044802cecbcba3de6f6ca46",
        "id": "QTb-ADJD-mOS",
        "colab_type": "text"
      },
      "cell_type": "markdown",
      "source": [
        "## *Grid*-seach CV\n",
        "Tester ut alle kombinasjonene for hyperparamentrene i settet under"
      ]
    },
    {
      "metadata": {
        "trusted": true,
        "_uuid": "381980f3cc9c97da67a0e67963db08c0b45f40cd",
        "id": "fz4Jf3-b-mOT",
        "colab_type": "code",
        "colab": {}
      },
      "cell_type": "code",
      "source": [
        "from sklearn.model_selection import GridSearchCV"
      ],
      "execution_count": 0,
      "outputs": []
    },
    {
      "metadata": {
        "trusted": true,
        "_uuid": "9d0eda61f56378c6a238803e9d95e70d1a4e3216",
        "id": "_6A0keDi-mOV",
        "colab_type": "code",
        "colab": {}
      },
      "cell_type": "code",
      "source": [
        "param_grid_small = {\n",
        "    \n",
        "    'max_depth': [5, 10, 15, 20, 30, 100, None],\n",
        "    'n_estimators': [50, 100, 500, 1000]\n",
        "    \n",
        "}\n",
        "\n",
        "param_grid_large = {\n",
        "     'bootstrap': [True, False],\n",
        "     'max_depth': [5, 10, 20, 30, 40, 50, 60, 70, 80, 90, 100, None],\n",
        "     'min_samples_leaf': [1, 2, 4],\n",
        "     'min_samples_split': [2, 5, 10],\n",
        "     'n_estimators': [50, 100, 500, 1000]\n",
        "    }"
      ],
      "execution_count": 0,
      "outputs": []
    },
    {
      "metadata": {
        "trusted": true,
        "_uuid": "ff1afb0dd22a1ecf4dcb2acc4ff64b3c27da5829",
        "id": "BeI5qSAK-mOY",
        "colab_type": "code",
        "colab": {}
      },
      "cell_type": "code",
      "source": [
        "rf2 = RandomForestClassifier()\n",
        "\n",
        "rf_gscv = GridSearchCV(estimator=rf2, param_grid=param_grid_small, cv=3, n_jobs=-1)"
      ],
      "execution_count": 0,
      "outputs": []
    },
    {
      "metadata": {
        "trusted": true,
        "_uuid": "a8ae6be7cc99c2b03f615bc111462c03c38674d1",
        "id": "EgD8nXyj-mOa",
        "colab_type": "code",
        "outputId": "950489d5-c794-4c9d-8a8c-99f21d3cf1bc",
        "colab": {
          "base_uri": "https://localhost:8080/",
          "height": 221
        }
      },
      "cell_type": "code",
      "source": [
        "rf_gscv.fit(X, y)"
      ],
      "execution_count": 0,
      "outputs": [
        {
          "output_type": "execute_result",
          "data": {
            "text/plain": [
              "GridSearchCV(cv=3, error_score='raise-deprecating',\n",
              "       estimator=RandomForestClassifier(bootstrap=True, class_weight=None, criterion='gini',\n",
              "            max_depth=None, max_features='auto', max_leaf_nodes=None,\n",
              "            min_impurity_decrease=0.0, min_impurity_split=None,\n",
              "            min_samples_leaf=1, min_samples_split=2,\n",
              "            min_weight_fraction_leaf=0.0, n_estimators='warn', n_jobs=None,\n",
              "            oob_score=False, random_state=None, verbose=0,\n",
              "            warm_start=False),\n",
              "       fit_params=None, iid='warn', n_jobs=-1,\n",
              "       param_grid={'max_depth': [5, 10, 15, 20, 30, 100, None], 'n_estimators': [50, 100, 500, 1000]},\n",
              "       pre_dispatch='2*n_jobs', refit=True, return_train_score='warn',\n",
              "       scoring=None, verbose=0)"
            ]
          },
          "metadata": {
            "tags": []
          },
          "execution_count": 42
        }
      ]
    },
    {
      "metadata": {
        "trusted": true,
        "_uuid": "ad9a482b2869357ec6d5229666a5e48e93565f79",
        "id": "PfBUxs4A-mOd",
        "colab_type": "code",
        "outputId": "e0d864e4-c219-47ac-a256-7ef6b8732374",
        "colab": {
          "base_uri": "https://localhost:8080/",
          "height": 136
        }
      },
      "cell_type": "code",
      "source": [
        "best_rf_gscv = rf_gscv.best_estimator_\n",
        "best_rf_gscv"
      ],
      "execution_count": 0,
      "outputs": [
        {
          "output_type": "execute_result",
          "data": {
            "text/plain": [
              "RandomForestClassifier(bootstrap=True, class_weight=None, criterion='gini',\n",
              "            max_depth=15, max_features='auto', max_leaf_nodes=None,\n",
              "            min_impurity_decrease=0.0, min_impurity_split=None,\n",
              "            min_samples_leaf=1, min_samples_split=2,\n",
              "            min_weight_fraction_leaf=0.0, n_estimators=500, n_jobs=None,\n",
              "            oob_score=False, random_state=None, verbose=0,\n",
              "            warm_start=False)"
            ]
          },
          "metadata": {
            "tags": []
          },
          "execution_count": 43
        }
      ]
    },
    {
      "metadata": {
        "_uuid": "37d3388ae94b8771df8d131e29b36ac903526be4",
        "id": "7J9tD_uj-mOf",
        "colab_type": "text"
      },
      "cell_type": "markdown",
      "source": [
        "### Cross-Validation\n",
        "En måte å trene opp datasettet ditt på dersom man har lite treningsdata. Deler opp datasette i cv deler. Så dersom cv=5, deles datasettet opp i 5 deler, og bruker først en del som testsett og resten som datasett. Så en annen del som testsett og resten som datasett, til alle delene har vært testsett"
      ]
    },
    {
      "metadata": {
        "trusted": true,
        "_uuid": "9276e20b153f90042e5f26787b671758f41c6161",
        "id": "Rb9sfFGc-mOg",
        "colab_type": "code",
        "outputId": "bafdc78e-53ea-4785-b421-a90213db51e1",
        "colab": {
          "base_uri": "https://localhost:8080/",
          "height": 51
        }
      },
      "cell_type": "code",
      "source": [
        "from sklearn.model_selection import cross_val_score\n",
        "\n",
        "scores = cross_val_score(best_rf_gscv, X, y, cv=5)\n",
        "print(scores)\n",
        "print(scores.mean())"
      ],
      "execution_count": 0,
      "outputs": [
        {
          "output_type": "stream",
          "text": [
            "[0.71212121 0.63636364 0.68181818 0.64615385 0.66153846]\n",
            "0.6675990675990675\n"
          ],
          "name": "stdout"
        }
      ]
    },
    {
      "metadata": {
        "trusted": true,
        "_uuid": "0432844c050240a7b36e28ae3418dd099e3eb62e",
        "id": "kybYyIXp-mOi",
        "colab_type": "code",
        "outputId": "d3581408-3d73-45f9-d544-1f21f6112f98",
        "colab": {
          "base_uri": "https://localhost:8080/",
          "height": 136
        }
      },
      "cell_type": "code",
      "source": [
        "y_pred_gscv = best_rf_gscv.predict(test)\n",
        "y_pred_gscv"
      ],
      "execution_count": 0,
      "outputs": [
        {
          "output_type": "execute_result",
          "data": {
            "text/plain": [
              "array([0, 2, 0, 0, 2, 1, 0, 2, 1, 2, 0, 0, 2, 2, 2, 2, 1, 2, 1, 2, 1, 0,\n",
              "       1, 0, 0, 2, 1, 2, 2, 2, 0, 2, 1, 2, 1, 2, 1, 2, 1, 0, 0, 0, 2, 1,\n",
              "       1, 0, 2, 1, 1, 2, 0, 2, 1, 2, 2, 2, 2, 0, 1, 0, 1, 0, 0, 2, 0, 2,\n",
              "       2, 1, 0, 0, 1, 1, 0, 2, 1, 1, 1, 1, 1, 1, 2, 1, 0, 0, 0, 0, 1, 0,\n",
              "       2, 0, 2, 0, 0, 0, 2, 2, 0, 1, 0, 2, 2, 0, 1, 0, 2, 0, 1, 1, 2, 2,\n",
              "       1, 0, 1, 2, 2, 2, 2, 0, 0, 0, 1, 1, 0, 2, 1, 1, 0, 0, 0, 0, 0, 1,\n",
              "       0, 1, 0, 0, 0, 2, 2, 2, 2])"
            ]
          },
          "metadata": {
            "tags": []
          },
          "execution_count": 45
        }
      ]
    },
    {
      "metadata": {
        "id": "UYOIGvtWUKOF",
        "colab_type": "code",
        "colab": {}
      },
      "cell_type": "code",
      "source": [
        "#submission_rf = pd.DataFrame({'IXI_IDX': test['IXI_ID'], 'label': y_pred_val})\n",
        "#submission_rf.to_csv('submission_rf_opt.csv', index=False)"
      ],
      "execution_count": 0,
      "outputs": []
    },
    {
      "metadata": {
        "id": "hcIHXS-0VYY2",
        "colab_type": "code",
        "colab": {}
      },
      "cell_type": "code",
      "source": [
        ""
      ],
      "execution_count": 0,
      "outputs": []
    },
    {
      "metadata": {
        "id": "8iZfGBzwVYx1",
        "colab_type": "text"
      },
      "cell_type": "markdown",
      "source": [
        "**Vi submittet dette i kaggle og fikk DÅRLIGERE som resultat enn ikke-optimalisert RF.**"
      ]
    },
    {
      "metadata": {
        "id": "KihATAb7fcKX",
        "colab_type": "code",
        "colab": {}
      },
      "cell_type": "code",
      "source": [
        ""
      ],
      "execution_count": 0,
      "outputs": []
    },
    {
      "metadata": {
        "id": "MVQOoEM3fdT7",
        "colab_type": "text"
      },
      "cell_type": "markdown",
      "source": [
        "## Redusere treningssettet"
      ]
    },
    {
      "metadata": {
        "id": "_vqoJHdrfgE8",
        "colab_type": "code",
        "colab": {}
      },
      "cell_type": "code",
      "source": [
        "train1 = pd.read_csv('https://github.com/MMIV-ML/ELMED219x/raw/master/data/project/train.csv')\n",
        "train1.drop('Measure:volume', axis=1, inplace=True)\n",
        "train1.drop('IXI_ID', axis=1, inplace=True)"
      ],
      "execution_count": 0,
      "outputs": []
    },
    {
      "metadata": {
        "id": "-aJIbCymfj0V",
        "colab_type": "code",
        "outputId": "98df8694-04b2-43f9-b13b-b83778430ec8",
        "colab": {
          "base_uri": "https://localhost:8080/",
          "height": 34
        }
      },
      "cell_type": "code",
      "source": [
        "from sklearn.model_selection import train_test_split\n",
        "from sklearn.ensemble import RandomForestClassifier\n",
        "\n",
        "X2 = train1.drop(['AGE_GROUP'], axis = 1)\n",
        "y2 = train1['AGE_GROUP']\n",
        "\n",
        "X_train, X_val, y_train, y_val = train_test_split(X2, y2, random_state=42)\n",
        "rf2 = RandomForestClassifier(random_state =42, n_estimators=10)\n",
        "rf2.fit(X_train, y_train)\n",
        "\n",
        "y_pred_val = rf2.predict(X_val)\n",
        "from sklearn.metrics import accuracy_score\n",
        "print('Accuracy-score på valideringssett:',accuracy_score(y_val, y_pred_val))\n",
        "\n",
        "\n",
        "test1 = pd.read_csv('https://github.com/MMIV-ML/ELMED219x/raw/master/data/project/test.csv')\n",
        "test1.drop('Measure:volume', axis=1, inplace=True)\n",
        "test1.drop('IXI_ID', axis=1, inplace=True)\n",
        "\n",
        "y_pred_rf1 = rf2.predict(test1)"
      ],
      "execution_count": 0,
      "outputs": [
        {
          "output_type": "stream",
          "text": [
            "Accuracy-score på valideringssett: 0.6829268292682927\n"
          ],
          "name": "stdout"
        }
      ]
    },
    {
      "metadata": {
        "id": "petHKrPcgjvI",
        "colab_type": "code",
        "outputId": "fd89eede-e563-4cd5-9e7f-446b055ecada",
        "colab": {
          "base_uri": "https://localhost:8080/",
          "height": 51
        }
      },
      "cell_type": "code",
      "source": [
        "scores = cross_val_score(rf2, X2, y2, cv=5)\n",
        "print(scores)\n",
        "print(scores.mean())"
      ],
      "execution_count": 0,
      "outputs": [
        {
          "output_type": "stream",
          "text": [
            "[0.60606061 0.56060606 0.53030303 0.55384615 0.6       ]\n",
            "0.5701631701631702\n"
          ],
          "name": "stdout"
        }
      ]
    },
    {
      "metadata": {
        "id": "ouhCdjFvfxFY",
        "colab_type": "code",
        "colab": {}
      },
      "cell_type": "code",
      "source": [
        "#submission_rf = pd.DataFrame({'IXI_IDX': test['IXI_ID'], 'label': y_pred_rf1})\n",
        "#submission_rf.to_csv('submission_remv.csv', index=False)\n",
        "\n",
        "#from google.colab import files\n",
        "#files.download('submission_remv.csv')"
      ],
      "execution_count": 0,
      "outputs": []
    },
    {
      "metadata": {
        "_uuid": "d3410309b503edac60f501984e4119cdda3eb171",
        "id": "Ki91NWTz-mOl",
        "colab_type": "text"
      },
      "cell_type": "markdown",
      "source": [
        "## Utvider datasettet\n",
        "\n",
        "Uvider treningsettet med den tidligere sammensatte dataen"
      ]
    },
    {
      "metadata": {
        "id": "bhotLun0jyMp",
        "colab_type": "code",
        "outputId": "92813e22-6ded-4a09-a352-5a8864385b7a",
        "colab": {
          "base_uri": "https://localhost:8080/",
          "height": 34
        }
      },
      "cell_type": "code",
      "source": [
        "X2_exp = pd.concat([X2, df_total], axis=1)\n",
        "\n",
        "X2_exp_train, X2_exp_val, y2_exp_train, y2_exp_val = train_test_split(X2_exp, y2, random_state=42)\n",
        "\n",
        "rf3 = RandomForestClassifier(random_state =42, n_estimators=100)\n",
        "\n",
        "rf3.fit(X2_exp_train, y2_exp_train)\n",
        "\n",
        "y_pred_val2 = rf3.predict(X2_exp_val)\n",
        "\n",
        "accuracy_score(y_val, y_pred_val2)\n"
      ],
      "execution_count": 0,
      "outputs": [
        {
          "output_type": "execute_result",
          "data": {
            "text/plain": [
              "0.6951219512195121"
            ]
          },
          "metadata": {
            "tags": []
          },
          "execution_count": 51
        }
      ]
    },
    {
      "metadata": {
        "id": "5IbVd3vik4Wg",
        "colab_type": "code",
        "outputId": "4c393e68-5196-4326-ddac-b958c9c7aa69",
        "colab": {
          "base_uri": "https://localhost:8080/",
          "height": 51
        }
      },
      "cell_type": "code",
      "source": [
        "scores = cross_val_score(rf2, X2_exp, y2, cv=5)\n",
        "print(scores)\n",
        "print(scores.mean())"
      ],
      "execution_count": 0,
      "outputs": [
        {
          "output_type": "stream",
          "text": [
            "[0.66666667 0.54545455 0.62121212 0.58461538 0.69230769]\n",
            "0.622051282051282\n"
          ],
          "name": "stdout"
        }
      ]
    },
    {
      "metadata": {
        "id": "kb3fiiogmLNi",
        "colab_type": "text"
      },
      "cell_type": "markdown",
      "source": [
        "Utvider testsettet"
      ]
    },
    {
      "metadata": {
        "id": "b5zUDcFpm_aJ",
        "colab_type": "code",
        "outputId": "9c478496-aca1-4330-abce-088a0f719be2",
        "colab": {
          "base_uri": "https://localhost:8080/",
          "height": 204
        }
      },
      "cell_type": "code",
      "source": [
        "col_names2 =  ['tot_insula_volume', 'tot_superiorparietal_volume', 'Tot-Hippocampus', 'Tot-Amygdala', 'Tot-Lateral-Ventricle', 'Tot-Putamen']\n",
        "df_total2 = pd.DataFrame(columns = col_names2)\n",
        "\n",
        "for i in range(0, len(test1)): \n",
        "    df_total2.loc[i] = [test1['rh_insula_volume'][i] + test1['lh_insula_volume'][i], \n",
        "                       test1['rh_superiorparietal_volume'][i] + test1['rh_superiorparietal_volume'][i], \n",
        "                       test1['Right-Hippocampus'][i] + test1['Left-Hippocampus'][i],\n",
        "                       test1['Right-Amygdala'][i] + test1['Left-Amygdala'][i],\n",
        "                       test1['Right-Lateral-Ventricle'][i] + test1['Left-Lateral-Ventricle'][i],\n",
        "                       test1['Right-Putamen'][i] + test1['Left-Putamen'][i]\n",
        "                      ]   \n",
        "df_total2.head()"
      ],
      "execution_count": 0,
      "outputs": [
        {
          "output_type": "execute_result",
          "data": {
            "text/html": [
              "<div>\n",
              "<style scoped>\n",
              "    .dataframe tbody tr th:only-of-type {\n",
              "        vertical-align: middle;\n",
              "    }\n",
              "\n",
              "    .dataframe tbody tr th {\n",
              "        vertical-align: top;\n",
              "    }\n",
              "\n",
              "    .dataframe thead th {\n",
              "        text-align: right;\n",
              "    }\n",
              "</style>\n",
              "<table border=\"1\" class=\"dataframe\">\n",
              "  <thead>\n",
              "    <tr style=\"text-align: right;\">\n",
              "      <th></th>\n",
              "      <th>tot_insula_volume</th>\n",
              "      <th>tot_superiorparietal_volume</th>\n",
              "      <th>Tot-Hippocampus</th>\n",
              "      <th>Tot-Amygdala</th>\n",
              "      <th>Tot-Lateral-Ventricle</th>\n",
              "      <th>Tot-Putamen</th>\n",
              "    </tr>\n",
              "  </thead>\n",
              "  <tbody>\n",
              "    <tr>\n",
              "      <th>0</th>\n",
              "      <td>16855.0</td>\n",
              "      <td>26204.0</td>\n",
              "      <td>9198.6</td>\n",
              "      <td>3990.2</td>\n",
              "      <td>25859.6</td>\n",
              "      <td>10243.9</td>\n",
              "    </tr>\n",
              "    <tr>\n",
              "      <th>1</th>\n",
              "      <td>12264.0</td>\n",
              "      <td>20810.0</td>\n",
              "      <td>7598.7</td>\n",
              "      <td>3238.8</td>\n",
              "      <td>17725.1</td>\n",
              "      <td>8235.4</td>\n",
              "    </tr>\n",
              "    <tr>\n",
              "      <th>2</th>\n",
              "      <td>16386.0</td>\n",
              "      <td>28164.0</td>\n",
              "      <td>8976.7</td>\n",
              "      <td>4119.8</td>\n",
              "      <td>7368.1</td>\n",
              "      <td>11295.6</td>\n",
              "    </tr>\n",
              "    <tr>\n",
              "      <th>3</th>\n",
              "      <td>14240.0</td>\n",
              "      <td>25690.0</td>\n",
              "      <td>8622.1</td>\n",
              "      <td>3558.4</td>\n",
              "      <td>25893.9</td>\n",
              "      <td>11342.7</td>\n",
              "    </tr>\n",
              "    <tr>\n",
              "      <th>4</th>\n",
              "      <td>13376.0</td>\n",
              "      <td>22046.0</td>\n",
              "      <td>6658.4</td>\n",
              "      <td>2654.9</td>\n",
              "      <td>19878.6</td>\n",
              "      <td>8128.9</td>\n",
              "    </tr>\n",
              "  </tbody>\n",
              "</table>\n",
              "</div>"
            ],
            "text/plain": [
              "   tot_insula_volume  tot_superiorparietal_volume  Tot-Hippocampus  \\\n",
              "0            16855.0                      26204.0           9198.6   \n",
              "1            12264.0                      20810.0           7598.7   \n",
              "2            16386.0                      28164.0           8976.7   \n",
              "3            14240.0                      25690.0           8622.1   \n",
              "4            13376.0                      22046.0           6658.4   \n",
              "\n",
              "   Tot-Amygdala  Tot-Lateral-Ventricle  Tot-Putamen  \n",
              "0        3990.2                25859.6      10243.9  \n",
              "1        3238.8                17725.1       8235.4  \n",
              "2        4119.8                 7368.1      11295.6  \n",
              "3        3558.4                25893.9      11342.7  \n",
              "4        2654.9                19878.6       8128.9  "
            ]
          },
          "metadata": {
            "tags": []
          },
          "execution_count": 53
        }
      ]
    },
    {
      "metadata": {
        "id": "tZdqfvojmp7f",
        "colab_type": "code",
        "colab": {}
      },
      "cell_type": "code",
      "source": [
        "test2 = pd.concat([test1, df_total2], axis=1)\n",
        "y_pred_test2 = rf3.predict(test2)"
      ],
      "execution_count": 0,
      "outputs": []
    },
    {
      "metadata": {
        "id": "TzUuH7gymm31",
        "colab_type": "code",
        "colab": {}
      },
      "cell_type": "code",
      "source": [
        "submission_rf_2 = pd.DataFrame({'IXI_IDX': test['IXI_ID'], 'label': y_pred_test2})\n",
        "submission_rf_2.to_csv('submission_rf_2.csv', index=False)\n",
        "\n",
        "#from google.colab import files\n",
        "#files.download('submission_rf_2.csv')"
      ],
      "execution_count": 0,
      "outputs": []
    },
    {
      "metadata": {
        "id": "vnh5rONQmD75",
        "colab_type": "text"
      },
      "cell_type": "markdown",
      "source": [
        "**64% på kaggle**"
      ]
    },
    {
      "metadata": {
        "id": "gkgDH639hoFF",
        "colab_type": "text"
      },
      "cell_type": "markdown",
      "source": [
        "### Inkluderer på predicted testsett i treningen"
      ]
    },
    {
      "metadata": {
        "trusted": true,
        "_uuid": "794fa4541159bd0c024caf5ba0a2ac4c814a20bc",
        "id": "yFv5Wah5-mOl",
        "colab_type": "code",
        "colab": {}
      },
      "cell_type": "code",
      "source": [
        "X_v2 = X.append(test)\n",
        "y_pred_gscv2 = pd.DataFrame({'label': y_pred_gscv})\n",
        "y2 = pd.DataFrame({'label': y})\n",
        "y_v2 = y2.append(y_pred_gscv2)"
      ],
      "execution_count": 0,
      "outputs": []
    },
    {
      "metadata": {
        "id": "QJaikawmitVT",
        "colab_type": "code",
        "outputId": "879b064a-13f6-4f70-cb82-52c7f5d796ad",
        "colab": {
          "base_uri": "https://localhost:8080/",
          "height": 241
        }
      },
      "cell_type": "code",
      "source": [
        "scores = cross_val_score(best_rf_gscv, X_v2, y_v2, cv=5)\n",
        "print(scores)\n",
        "print(scores.mean())"
      ],
      "execution_count": 0,
      "outputs": [
        {
          "output_type": "stream",
          "text": [
            "/usr/local/lib/python3.6/dist-packages/sklearn/model_selection/_validation.py:528: DataConversionWarning: A column-vector y was passed when a 1d array was expected. Please change the shape of y to (n_samples,), for example using ravel().\n",
            "  estimator.fit(X_train, y_train, **fit_params)\n",
            "/usr/local/lib/python3.6/dist-packages/sklearn/model_selection/_validation.py:528: DataConversionWarning: A column-vector y was passed when a 1d array was expected. Please change the shape of y to (n_samples,), for example using ravel().\n",
            "  estimator.fit(X_train, y_train, **fit_params)\n",
            "/usr/local/lib/python3.6/dist-packages/sklearn/model_selection/_validation.py:528: DataConversionWarning: A column-vector y was passed when a 1d array was expected. Please change the shape of y to (n_samples,), for example using ravel().\n",
            "  estimator.fit(X_train, y_train, **fit_params)\n",
            "/usr/local/lib/python3.6/dist-packages/sklearn/model_selection/_validation.py:528: DataConversionWarning: A column-vector y was passed when a 1d array was expected. Please change the shape of y to (n_samples,), for example using ravel().\n",
            "  estimator.fit(X_train, y_train, **fit_params)\n",
            "/usr/local/lib/python3.6/dist-packages/sklearn/model_selection/_validation.py:528: DataConversionWarning: A column-vector y was passed when a 1d array was expected. Please change the shape of y to (n_samples,), for example using ravel().\n",
            "  estimator.fit(X_train, y_train, **fit_params)\n"
          ],
          "name": "stderr"
        },
        {
          "output_type": "stream",
          "text": [
            "[0.68421053 0.60638298 0.61702128 0.80851064 0.95652174]\n",
            "0.7345294318126492\n"
          ],
          "name": "stdout"
        }
      ]
    },
    {
      "metadata": {
        "trusted": true,
        "_uuid": "69d3fee8264415946f167bff8a067dc4962797fc",
        "id": "--GFCbfJ-mOt",
        "colab_type": "code",
        "outputId": "29f2ce07-3d17-4f21-c60f-05485db1efb4",
        "colab": {
          "base_uri": "https://localhost:8080/",
          "height": 136
        }
      },
      "cell_type": "code",
      "source": [
        "y_pred2 = best_rf_gscv.predict(test)\n",
        "y_pred2"
      ],
      "execution_count": 0,
      "outputs": [
        {
          "output_type": "execute_result",
          "data": {
            "text/plain": [
              "array([0, 2, 0, 0, 2, 1, 0, 2, 1, 2, 0, 0, 2, 2, 2, 2, 1, 2, 1, 2, 1, 0,\n",
              "       1, 0, 0, 2, 1, 2, 2, 2, 0, 2, 1, 2, 1, 2, 1, 2, 1, 0, 0, 0, 2, 1,\n",
              "       1, 0, 2, 1, 1, 2, 0, 2, 1, 2, 2, 2, 2, 0, 1, 0, 1, 0, 0, 2, 0, 2,\n",
              "       2, 1, 0, 0, 1, 1, 0, 2, 1, 1, 1, 1, 1, 1, 2, 1, 0, 0, 0, 0, 1, 0,\n",
              "       2, 0, 2, 0, 0, 0, 2, 2, 0, 1, 0, 2, 2, 0, 1, 0, 2, 0, 1, 1, 2, 2,\n",
              "       1, 0, 1, 2, 2, 2, 2, 0, 0, 0, 1, 1, 0, 2, 1, 1, 0, 0, 0, 0, 0, 1,\n",
              "       0, 1, 0, 0, 0, 2, 2, 2, 2])"
            ]
          },
          "metadata": {
            "tags": []
          },
          "execution_count": 58
        }
      ]
    },
    {
      "metadata": {
        "_uuid": "44e13c82b011cefb515c31aa328bf5fb8597e9db",
        "id": "vPR5mRVo-mOv",
        "colab_type": "text"
      },
      "cell_type": "markdown",
      "source": [
        ">**Ga ett resultat på 64%**"
      ]
    },
    {
      "metadata": {
        "trusted": true,
        "_uuid": "150601ef301d0a51d452e14b472ef7ad1dfb47c0",
        "colab_type": "code",
        "id": "7aKUjvm3WDSk",
        "colab": {}
      },
      "cell_type": "code",
      "source": [
        "#submission = pd.DataFrame({'IXI_IDX': test['IXI_ID'], 'label': y_pred2})\n",
        "#submission.to_csv('subission_cheat.csv', index=False)"
      ],
      "execution_count": 0,
      "outputs": []
    },
    {
      "metadata": {
        "id": "A3sOtZb4yMJ-",
        "colab_type": "text"
      },
      "cell_type": "markdown",
      "source": [
        "## Clustering på testsettet"
      ]
    },
    {
      "metadata": {
        "id": "qgljlBSayLQJ",
        "colab_type": "code",
        "outputId": "37cd9054-7495-446c-cd09-e7b3aaa659b8",
        "colab": {
          "base_uri": "https://localhost:8080/",
          "height": 136
        }
      },
      "cell_type": "code",
      "source": [
        "from sklearn import cluster\n",
        "\n",
        "k_means = cluster.KMeans(n_clusters=3)\n",
        "\n",
        "k_means.fit(test)\n",
        "\n",
        "clu_pred = k_means.labels_\n",
        "\n",
        "clu_pred"
      ],
      "execution_count": 0,
      "outputs": [
        {
          "output_type": "execute_result",
          "data": {
            "text/plain": [
              "array([1, 0, 1, 1, 0, 1, 1, 0, 2, 0, 1, 0, 2, 0, 2, 0, 1, 2, 0, 2, 2, 1,\n",
              "       0, 1, 0, 2, 0, 2, 0, 2, 0, 2, 2, 2, 1, 2, 0, 2, 0, 0, 0, 2, 2, 1,\n",
              "       2, 0, 0, 0, 1, 1, 0, 2, 0, 2, 0, 0, 2, 0, 1, 1, 1, 2, 0, 2, 0, 2,\n",
              "       0, 2, 0, 1, 0, 1, 0, 0, 0, 0, 2, 0, 2, 0, 2, 2, 0, 1, 0, 1, 2, 1,\n",
              "       0, 1, 2, 1, 1, 1, 0, 0, 1, 0, 2, 1, 2, 0, 0, 0, 0, 1, 0, 2, 2, 0,\n",
              "       2, 1, 0, 0, 2, 2, 0, 0, 2, 0, 0, 0, 1, 0, 2, 2, 0, 0, 1, 0, 0, 1,\n",
              "       1, 0, 1, 1, 0, 2, 0, 1, 2], dtype=int32)"
            ]
          },
          "metadata": {
            "tags": []
          },
          "execution_count": 60
        }
      ]
    },
    {
      "metadata": {
        "id": "dyMhCmDgz1iV",
        "colab_type": "code",
        "colab": {}
      },
      "cell_type": "code",
      "source": [
        "X_clu = X.append(test)\n",
        "y_pred_clu = pd.DataFrame({'label': clu_pred})\n",
        "y_clu = pd.DataFrame({'label': y})\n",
        "y_clu2 = y_clu.append(y_pred_clu)\n",
        "\n"
      ],
      "execution_count": 0,
      "outputs": []
    },
    {
      "metadata": {
        "id": "BoaO6ekIgOTY",
        "colab_type": "code",
        "outputId": "b6b70f00-8ddf-4188-f8a4-94ef299cc3e8",
        "colab": {
          "base_uri": "https://localhost:8080/",
          "height": 241
        }
      },
      "cell_type": "code",
      "source": [
        "scores = cross_val_score(best_rf_gscv, X_clu, y_clu2, cv=5)\n",
        "print(scores)\n",
        "print(scores.mean())"
      ],
      "execution_count": 0,
      "outputs": [
        {
          "output_type": "stream",
          "text": [
            "/usr/local/lib/python3.6/dist-packages/sklearn/model_selection/_validation.py:528: DataConversionWarning: A column-vector y was passed when a 1d array was expected. Please change the shape of y to (n_samples,), for example using ravel().\n",
            "  estimator.fit(X_train, y_train, **fit_params)\n",
            "/usr/local/lib/python3.6/dist-packages/sklearn/model_selection/_validation.py:528: DataConversionWarning: A column-vector y was passed when a 1d array was expected. Please change the shape of y to (n_samples,), for example using ravel().\n",
            "  estimator.fit(X_train, y_train, **fit_params)\n",
            "/usr/local/lib/python3.6/dist-packages/sklearn/model_selection/_validation.py:528: DataConversionWarning: A column-vector y was passed when a 1d array was expected. Please change the shape of y to (n_samples,), for example using ravel().\n",
            "  estimator.fit(X_train, y_train, **fit_params)\n",
            "/usr/local/lib/python3.6/dist-packages/sklearn/model_selection/_validation.py:528: DataConversionWarning: A column-vector y was passed when a 1d array was expected. Please change the shape of y to (n_samples,), for example using ravel().\n",
            "  estimator.fit(X_train, y_train, **fit_params)\n",
            "/usr/local/lib/python3.6/dist-packages/sklearn/model_selection/_validation.py:528: DataConversionWarning: A column-vector y was passed when a 1d array was expected. Please change the shape of y to (n_samples,), for example using ravel().\n",
            "  estimator.fit(X_train, y_train, **fit_params)\n"
          ],
          "name": "stderr"
        },
        {
          "output_type": "stream",
          "text": [
            "[0.5625     0.5212766  0.53763441 0.58064516 0.59139785]\n",
            "0.5586908030199039\n"
          ],
          "name": "stdout"
        }
      ]
    },
    {
      "metadata": {
        "id": "_2-XwY3t0mCJ",
        "colab_type": "code",
        "outputId": "a2e925a1-056b-44a8-d9b4-efb218f73560",
        "colab": {
          "base_uri": "https://localhost:8080/",
          "height": 190
        }
      },
      "cell_type": "code",
      "source": [
        "best_rf_gscv.fit(X_clu,y_clu2)"
      ],
      "execution_count": 0,
      "outputs": [
        {
          "output_type": "stream",
          "text": [
            "/usr/local/lib/python3.6/dist-packages/ipykernel_launcher.py:1: DataConversionWarning: A column-vector y was passed when a 1d array was expected. Please change the shape of y to (n_samples,), for example using ravel().\n",
            "  \"\"\"Entry point for launching an IPython kernel.\n"
          ],
          "name": "stderr"
        },
        {
          "output_type": "execute_result",
          "data": {
            "text/plain": [
              "RandomForestClassifier(bootstrap=True, class_weight=None, criterion='gini',\n",
              "            max_depth=15, max_features='auto', max_leaf_nodes=None,\n",
              "            min_impurity_decrease=0.0, min_impurity_split=None,\n",
              "            min_samples_leaf=1, min_samples_split=2,\n",
              "            min_weight_fraction_leaf=0.0, n_estimators=500, n_jobs=None,\n",
              "            oob_score=False, random_state=None, verbose=0,\n",
              "            warm_start=False)"
            ]
          },
          "metadata": {
            "tags": []
          },
          "execution_count": 63
        }
      ]
    },
    {
      "metadata": {
        "id": "PvAIN2uN0r3r",
        "colab_type": "code",
        "outputId": "29225f65-97cc-4691-d600-df78409b4c57",
        "colab": {
          "base_uri": "https://localhost:8080/",
          "height": 136
        }
      },
      "cell_type": "code",
      "source": [
        "y_pred_clu = best_rf_gscv.predict(test)\n",
        "y_pred_clu"
      ],
      "execution_count": 0,
      "outputs": [
        {
          "output_type": "execute_result",
          "data": {
            "text/plain": [
              "array([1, 0, 1, 1, 0, 1, 1, 0, 2, 0, 1, 0, 2, 0, 2, 0, 1, 2, 0, 2, 2, 1,\n",
              "       0, 1, 0, 2, 0, 2, 0, 2, 0, 2, 2, 2, 1, 2, 0, 2, 0, 0, 0, 2, 2, 1,\n",
              "       2, 0, 0, 0, 1, 1, 0, 2, 0, 2, 0, 0, 2, 0, 1, 1, 1, 2, 0, 2, 0, 2,\n",
              "       0, 2, 0, 1, 0, 1, 0, 0, 0, 0, 2, 0, 2, 0, 2, 2, 0, 1, 0, 1, 2, 1,\n",
              "       0, 1, 2, 1, 1, 1, 0, 0, 1, 0, 2, 1, 2, 0, 0, 0, 0, 1, 0, 2, 2, 0,\n",
              "       2, 1, 0, 0, 2, 2, 0, 0, 2, 0, 0, 0, 1, 0, 2, 2, 0, 0, 1, 0, 0, 1,\n",
              "       1, 0, 1, 1, 0, 2, 0, 1, 2])"
            ]
          },
          "metadata": {
            "tags": []
          },
          "execution_count": 64
        }
      ]
    },
    {
      "metadata": {
        "id": "9vqnatXe1D3o",
        "colab_type": "code",
        "colab": {}
      },
      "cell_type": "code",
      "source": [
        "#submission = pd.DataFrame({'IXI_IDX': test['IXI_ID'], 'label': y_pred_clu})\n",
        "#submission.head(10)\n",
        "#submission.to_csv('submission3.csv', index=False)"
      ],
      "execution_count": 0,
      "outputs": []
    },
    {
      "metadata": {
        "id": "dVDP6fUY8zfF",
        "colab_type": "text"
      },
      "cell_type": "markdown",
      "source": [
        "**Vi submittet i kaggle og fikk 0,41 som resultat!**"
      ]
    },
    {
      "metadata": {
        "id": "DCC8k3gGWs9p",
        "colab_type": "text"
      },
      "cell_type": "markdown",
      "source": [
        "# Analyse av endelig modell"
      ]
    },
    {
      "metadata": {
        "id": "u5g4qZgoYdCd",
        "colab_type": "text"
      },
      "cell_type": "markdown",
      "source": [
        "## Forvirringsmatrise"
      ]
    },
    {
      "metadata": {
        "id": "j9vjYTgtrKGM",
        "colab_type": "text"
      },
      "cell_type": "markdown",
      "source": [
        "#### Plot funksjon"
      ]
    },
    {
      "metadata": {
        "id": "yhJ8zp1srFiK",
        "colab_type": "code",
        "colab": {}
      },
      "cell_type": "code",
      "source": [
        "import itertools\n",
        "\n",
        "def plot_confusion_matrix(cm, classes,\n",
        "                          normalize=False,\n",
        "                          title='Confusion matrix',\n",
        "                          cmap=plt.cm.Blues):\n",
        "    \"\"\"\n",
        "    This function prints and plots the confusion matrix.\n",
        "    Normalization can be applied by setting `normalize=True`.\n",
        "    \"\"\"\n",
        "    if normalize:\n",
        "        cm = cm.astype('float') / cm.sum(axis=1)[:, np.newaxis]\n",
        "        print(\"Normalized confusion matrix\")\n",
        "    else:\n",
        "        print('Confusion matrix, without normalization')\n",
        "\n",
        "    print(cm)\n",
        "    \n",
        "\n",
        "    plt.imshow(cm, interpolation='nearest', cmap=cmap)\n",
        "    plt.title(\"RF_BrainAge\") #Siden det er en string må du ha \"\" rundt stringen\n",
        "    plt.colorbar()\n",
        "    tick_marks = np.arange(len(classes))\n",
        "    print (tick_marks, classes)\n",
        "    plt.xticks(tick_marks, classes, rotation=45)\n",
        "    plt.yticks(tick_marks, classes)\n",
        "\n",
        "    fmt = '.2f' if normalize else 'd'\n",
        "    thresh = cm.max() / 2\n",
        "    for i, j in itertools.product(range(cm.shape[0]), range(cm.shape[1])): #måtte importere itertools \n",
        "        plt.text(j, i, format(cm[i, j], fmt),\n",
        "                 horizontalalignment=\"center\",\n",
        "                 color=\"white\" if cm[i, j] > thresh else \"black\")\n",
        "    \n",
        "    plt.ylabel('y_val')\n",
        "    plt.xlabel('y_pred_val')\n",
        "    plt.tight_layout()\n",
        "\n"
      ],
      "execution_count": 0,
      "outputs": []
    },
    {
      "metadata": {
        "id": "qrzde7Y1rVIo",
        "colab_type": "text"
      },
      "cell_type": "markdown",
      "source": [
        "#### Plot"
      ]
    },
    {
      "metadata": {
        "id": "XEVWYfZiZB1f",
        "colab_type": "code",
        "outputId": "10ac808d-2d5c-41c4-bff4-40e914946217",
        "colab": {
          "base_uri": "https://localhost:8080/",
          "height": 382
        }
      },
      "cell_type": "code",
      "source": [
        "from sklearn.metrics import confusion_matrix\n",
        "\n",
        "# Compute confusion matrix\n",
        "cnf_matrix = confusion_matrix(y_val, y_pred_val)\n",
        "\n",
        "np.set_printoptions(precision=2)\n",
        "\n",
        "plot_confusion_matrix(cnf_matrix, [0,1,2])"
      ],
      "execution_count": 0,
      "outputs": [
        {
          "output_type": "stream",
          "text": [
            "Confusion matrix, without normalization\n",
            "[[22  2  1]\n",
            " [ 7 14  4]\n",
            " [ 3  9 20]]\n",
            "[0 1 2] [0, 1, 2]\n"
          ],
          "name": "stdout"
        },
        {
          "output_type": "display_data",
          "data": {
            "image/png": "[encoded data removed]",
            "text/plain": [
              "<Figure size 432x288 with 2 Axes>"
            ]
          },
          "metadata": {
            "tags": []
          }
        }
      ]
    },
    {
      "metadata": {
        "id": "cBqRuLN_b1fY",
        "colab_type": "text"
      },
      "cell_type": "markdown",
      "source": [
        "## Permutation importance"
      ]
    },
    {
      "metadata": {
        "id": "gDa5OIvBcNmj",
        "colab_type": "code",
        "colab": {}
      },
      "cell_type": "code",
      "source": [
        "!pip install -q eli5"
      ],
      "execution_count": 0,
      "outputs": []
    },
    {
      "metadata": {
        "id": "z5fFTmZRb2Oi",
        "colab_type": "code",
        "outputId": "9f7f26c1-12e9-40b5-d619-ac594b7bd6f4",
        "colab": {
          "base_uri": "https://localhost:8080/",
          "height": 391
        }
      },
      "cell_type": "code",
      "source": [
        "import eli5\n",
        "from eli5.sklearn import PermutationImportance\n",
        "perm = PermutationImportance(rf2, random_state=42).fit(X_val, y_val)\n",
        "eli5.show_weights(perm, feature_names = X_val.columns.tolist())"
      ],
      "execution_count": 0,
      "outputs": [
        {
          "output_type": "execute_result",
          "data": {
            "text/html": [
              "\n",
              "    <style>\n",
              "    table.eli5-weights tr:hover {\n",
              "        filter: brightness(85%);\n",
              "    }\n",
              "</style>\n",
              "\n",
              "\n",
              "\n",
              "    \n",
              "\n",
              "    \n",
              "\n",
              "    \n",
              "\n",
              "    \n",
              "\n",
              "    \n",
              "\n",
              "    \n",
              "\n",
              "\n",
              "    \n",
              "\n",
              "    \n",
              "\n",
              "    \n",
              "\n",
              "    \n",
              "\n",
              "    \n",
              "\n",
              "    \n",
              "\n",
              "\n",
              "    \n",
              "\n",
              "    \n",
              "\n",
              "    \n",
              "\n",
              "    \n",
              "\n",
              "    \n",
              "        <table class=\"eli5-weights eli5-feature-importances\" style=\"border-collapse: collapse; border: none; margin-top: 0em; table-layout: auto;\">\n",
              "    <thead>\n",
              "    <tr style=\"border: none;\">\n",
              "        <th style=\"padding: 0 1em 0 0.5em; text-align: right; border: none;\">Weight</th>\n",
              "        <th style=\"padding: 0 0.5em 0 0.5em; text-align: left; border: none;\">Feature</th>\n",
              "    </tr>\n",
              "    </thead>\n",
              "    <tbody>\n",
              "    \n",
              "        <tr style=\"background-color: hsl(120, 100.00%, 80.00%); border: none;\">\n",
              "            <td style=\"padding: 0 1em 0 0.5em; text-align: right; border: none;\">\n",
              "                0.0561\n",
              "                \n",
              "                    &plusmn; 0.0365\n",
              "                \n",
              "            </td>\n",
              "            <td style=\"padding: 0 0.5em 0 0.5em; text-align: left; border: none;\">\n",
              "                Left-choroid-plexus\n",
              "            </td>\n",
              "        </tr>\n",
              "    \n",
              "        <tr style=\"background-color: hsl(120, 100.00%, 83.15%); border: none;\">\n",
              "            <td style=\"padding: 0 1em 0 0.5em; text-align: right; border: none;\">\n",
              "                0.0439\n",
              "                \n",
              "                    &plusmn; 0.0249\n",
              "                \n",
              "            </td>\n",
              "            <td style=\"padding: 0 0.5em 0 0.5em; text-align: left; border: none;\">\n",
              "                rh_frontalpole_volume\n",
              "            </td>\n",
              "        </tr>\n",
              "    \n",
              "        <tr style=\"background-color: hsl(120, 100.00%, 83.81%); border: none;\">\n",
              "            <td style=\"padding: 0 1em 0 0.5em; text-align: right; border: none;\">\n",
              "                0.0415\n",
              "                \n",
              "                    &plusmn; 0.0548\n",
              "                \n",
              "            </td>\n",
              "            <td style=\"padding: 0 0.5em 0 0.5em; text-align: left; border: none;\">\n",
              "                Left-Lateral-Ventricle\n",
              "            </td>\n",
              "        </tr>\n",
              "    \n",
              "        <tr style=\"background-color: hsl(120, 100.00%, 85.17%); border: none;\">\n",
              "            <td style=\"padding: 0 1em 0 0.5em; text-align: right; border: none;\">\n",
              "                0.0366\n",
              "                \n",
              "                    &plusmn; 0.0218\n",
              "                \n",
              "            </td>\n",
              "            <td style=\"padding: 0 0.5em 0 0.5em; text-align: left; border: none;\">\n",
              "                rh_parstriangularis_volume\n",
              "            </td>\n",
              "        </tr>\n",
              "    \n",
              "        <tr style=\"background-color: hsl(120, 100.00%, 86.59%); border: none;\">\n",
              "            <td style=\"padding: 0 1em 0 0.5em; text-align: right; border: none;\">\n",
              "                0.0317\n",
              "                \n",
              "                    &plusmn; 0.0396\n",
              "                \n",
              "            </td>\n",
              "            <td style=\"padding: 0 0.5em 0 0.5em; text-align: left; border: none;\">\n",
              "                Right-Lateral-Ventricle\n",
              "            </td>\n",
              "        </tr>\n",
              "    \n",
              "        <tr style=\"background-color: hsl(120, 100.00%, 87.32%); border: none;\">\n",
              "            <td style=\"padding: 0 1em 0 0.5em; text-align: right; border: none;\">\n",
              "                0.0293\n",
              "                \n",
              "                    &plusmn; 0.0195\n",
              "                \n",
              "            </td>\n",
              "            <td style=\"padding: 0 0.5em 0 0.5em; text-align: left; border: none;\">\n",
              "                rh_posteriorcingulate_volume\n",
              "            </td>\n",
              "        </tr>\n",
              "    \n",
              "        <tr style=\"background-color: hsl(120, 100.00%, 87.32%); border: none;\">\n",
              "            <td style=\"padding: 0 1em 0 0.5em; text-align: right; border: none;\">\n",
              "                0.0293\n",
              "                \n",
              "                    &plusmn; 0.0119\n",
              "                \n",
              "            </td>\n",
              "            <td style=\"padding: 0 0.5em 0 0.5em; text-align: left; border: none;\">\n",
              "                rh_rostralanteriorcingulate_volume\n",
              "            </td>\n",
              "        </tr>\n",
              "    \n",
              "        <tr style=\"background-color: hsl(120, 100.00%, 87.32%); border: none;\">\n",
              "            <td style=\"padding: 0 1em 0 0.5em; text-align: right; border: none;\">\n",
              "                0.0293\n",
              "                \n",
              "                    &plusmn; 0.0331\n",
              "                \n",
              "            </td>\n",
              "            <td style=\"padding: 0 0.5em 0 0.5em; text-align: left; border: none;\">\n",
              "                rh_superiortemporal_volume\n",
              "            </td>\n",
              "        </tr>\n",
              "    \n",
              "        <tr style=\"background-color: hsl(120, 100.00%, 87.32%); border: none;\">\n",
              "            <td style=\"padding: 0 1em 0 0.5em; text-align: right; border: none;\">\n",
              "                0.0293\n",
              "                \n",
              "                    &plusmn; 0.0331\n",
              "                \n",
              "            </td>\n",
              "            <td style=\"padding: 0 0.5em 0 0.5em; text-align: left; border: none;\">\n",
              "                rh_lateraloccipital_volume\n",
              "            </td>\n",
              "        </tr>\n",
              "    \n",
              "        <tr style=\"background-color: hsl(120, 100.00%, 87.32%); border: none;\">\n",
              "            <td style=\"padding: 0 1em 0 0.5em; text-align: right; border: none;\">\n",
              "                0.0293\n",
              "                \n",
              "                    &plusmn; 0.0119\n",
              "                \n",
              "            </td>\n",
              "            <td style=\"padding: 0 0.5em 0 0.5em; text-align: left; border: none;\">\n",
              "                Left-Putamen\n",
              "            </td>\n",
              "        </tr>\n",
              "    \n",
              "        <tr style=\"background-color: hsl(120, 100.00%, 87.32%); border: none;\">\n",
              "            <td style=\"padding: 0 1em 0 0.5em; text-align: right; border: none;\">\n",
              "                0.0293\n",
              "                \n",
              "                    &plusmn; 0.0119\n",
              "                \n",
              "            </td>\n",
              "            <td style=\"padding: 0 0.5em 0 0.5em; text-align: left; border: none;\">\n",
              "                rh_isthmuscingulate_volume\n",
              "            </td>\n",
              "        </tr>\n",
              "    \n",
              "        <tr style=\"background-color: hsl(120, 100.00%, 87.32%); border: none;\">\n",
              "            <td style=\"padding: 0 1em 0 0.5em; text-align: right; border: none;\">\n",
              "                0.0293\n",
              "                \n",
              "                    &plusmn; 0.0396\n",
              "                \n",
              "            </td>\n",
              "            <td style=\"padding: 0 0.5em 0 0.5em; text-align: left; border: none;\">\n",
              "                lh_superiorfrontal_volume\n",
              "            </td>\n",
              "        </tr>\n",
              "    \n",
              "        <tr style=\"background-color: hsl(120, 100.00%, 88.07%); border: none;\">\n",
              "            <td style=\"padding: 0 1em 0 0.5em; text-align: right; border: none;\">\n",
              "                0.0268\n",
              "                \n",
              "                    &plusmn; 0.0239\n",
              "                \n",
              "            </td>\n",
              "            <td style=\"padding: 0 0.5em 0 0.5em; text-align: left; border: none;\">\n",
              "                lh_isthmuscingulate_volume\n",
              "            </td>\n",
              "        </tr>\n",
              "    \n",
              "        <tr style=\"background-color: hsl(120, 100.00%, 88.07%); border: none;\">\n",
              "            <td style=\"padding: 0 1em 0 0.5em; text-align: right; border: none;\">\n",
              "                0.0268\n",
              "                \n",
              "                    &plusmn; 0.0324\n",
              "                \n",
              "            </td>\n",
              "            <td style=\"padding: 0 0.5em 0 0.5em; text-align: left; border: none;\">\n",
              "                lh_parstriangularis_volume\n",
              "            </td>\n",
              "        </tr>\n",
              "    \n",
              "        <tr style=\"background-color: hsl(120, 100.00%, 88.84%); border: none;\">\n",
              "            <td style=\"padding: 0 1em 0 0.5em; text-align: right; border: none;\">\n",
              "                0.0244\n",
              "                \n",
              "                    &plusmn; 0.0154\n",
              "                \n",
              "            </td>\n",
              "            <td style=\"padding: 0 0.5em 0 0.5em; text-align: left; border: none;\">\n",
              "                Right-Accumbens-area\n",
              "            </td>\n",
              "        </tr>\n",
              "    \n",
              "        <tr style=\"background-color: hsl(120, 100.00%, 88.84%); border: none;\">\n",
              "            <td style=\"padding: 0 1em 0 0.5em; text-align: right; border: none;\">\n",
              "                0.0244\n",
              "                \n",
              "                    &plusmn; 0.0309\n",
              "                \n",
              "            </td>\n",
              "            <td style=\"padding: 0 0.5em 0 0.5em; text-align: left; border: none;\">\n",
              "                rh_rostralmiddlefrontal_volume\n",
              "            </td>\n",
              "        </tr>\n",
              "    \n",
              "        <tr style=\"background-color: hsl(120, 100.00%, 89.63%); border: none;\">\n",
              "            <td style=\"padding: 0 1em 0 0.5em; text-align: right; border: none;\">\n",
              "                0.0220\n",
              "                \n",
              "                    &plusmn; 0.0420\n",
              "                \n",
              "            </td>\n",
              "            <td style=\"padding: 0 0.5em 0 0.5em; text-align: left; border: none;\">\n",
              "                WM-hypointensities\n",
              "            </td>\n",
              "        </tr>\n",
              "    \n",
              "        <tr style=\"background-color: hsl(120, 100.00%, 89.63%); border: none;\">\n",
              "            <td style=\"padding: 0 1em 0 0.5em; text-align: right; border: none;\">\n",
              "                0.0220\n",
              "                \n",
              "                    &plusmn; 0.0284\n",
              "                \n",
              "            </td>\n",
              "            <td style=\"padding: 0 0.5em 0 0.5em; text-align: left; border: none;\">\n",
              "                rh_inferiorparietal_volume\n",
              "            </td>\n",
              "        </tr>\n",
              "    \n",
              "        <tr style=\"background-color: hsl(120, 100.00%, 89.63%); border: none;\">\n",
              "            <td style=\"padding: 0 1em 0 0.5em; text-align: right; border: none;\">\n",
              "                0.0220\n",
              "                \n",
              "                    &plusmn; 0.0098\n",
              "                \n",
              "            </td>\n",
              "            <td style=\"padding: 0 0.5em 0 0.5em; text-align: left; border: none;\">\n",
              "                Brain-Stem\n",
              "            </td>\n",
              "        </tr>\n",
              "    \n",
              "        <tr style=\"background-color: hsl(120, 100.00%, 89.63%); border: none;\">\n",
              "            <td style=\"padding: 0 1em 0 0.5em; text-align: right; border: none;\">\n",
              "                0.0220\n",
              "                \n",
              "                    &plusmn; 0.0239\n",
              "                \n",
              "            </td>\n",
              "            <td style=\"padding: 0 0.5em 0 0.5em; text-align: left; border: none;\">\n",
              "                Left-Accumbens-area\n",
              "            </td>\n",
              "        </tr>\n",
              "    \n",
              "    \n",
              "        \n",
              "            <tr style=\"background-color: hsl(120, 100.00%, 89.63%); border: none;\">\n",
              "                <td colspan=\"2\" style=\"padding: 0 0.5em 0 0.5em; text-align: center; border: none; white-space: nowrap;\">\n",
              "                    <i>&hellip; 118 more &hellip;</i>\n",
              "                </td>\n",
              "            </tr>\n",
              "        \n",
              "    \n",
              "    </tbody>\n",
              "</table>\n",
              "    \n",
              "\n",
              "    \n",
              "\n",
              "\n",
              "    \n",
              "\n",
              "    \n",
              "\n",
              "    \n",
              "\n",
              "    \n",
              "\n",
              "    \n",
              "\n",
              "    \n",
              "\n",
              "\n",
              "\n"
            ],
            "text/plain": [
              "<IPython.core.display.HTML object>"
            ]
          },
          "metadata": {
            "tags": []
          },
          "execution_count": 69
        }
      ]
    },
    {
      "metadata": {
        "id": "U58CdseolLSb",
        "colab_type": "code",
        "outputId": "575dd64e-a227-4261-a80c-4ceab4a98d45",
        "colab": {
          "base_uri": "https://localhost:8080/",
          "height": 391
        }
      },
      "cell_type": "code",
      "source": [
        "perm1 = PermutationImportance(rf3, random_state=42).fit(X2_exp_val, y2_exp_val)\n",
        "eli5.show_weights(perm1, feature_names = X2_exp_val.columns.tolist())"
      ],
      "execution_count": 0,
      "outputs": [
        {
          "output_type": "execute_result",
          "data": {
            "text/html": [
              "\n",
              "    <style>\n",
              "    table.eli5-weights tr:hover {\n",
              "        filter: brightness(85%);\n",
              "    }\n",
              "</style>\n",
              "\n",
              "\n",
              "\n",
              "    \n",
              "\n",
              "    \n",
              "\n",
              "    \n",
              "\n",
              "    \n",
              "\n",
              "    \n",
              "\n",
              "    \n",
              "\n",
              "\n",
              "    \n",
              "\n",
              "    \n",
              "\n",
              "    \n",
              "\n",
              "    \n",
              "\n",
              "    \n",
              "\n",
              "    \n",
              "\n",
              "\n",
              "    \n",
              "\n",
              "    \n",
              "\n",
              "    \n",
              "\n",
              "    \n",
              "\n",
              "    \n",
              "        <table class=\"eli5-weights eli5-feature-importances\" style=\"border-collapse: collapse; border: none; margin-top: 0em; table-layout: auto;\">\n",
              "    <thead>\n",
              "    <tr style=\"border: none;\">\n",
              "        <th style=\"padding: 0 1em 0 0.5em; text-align: right; border: none;\">Weight</th>\n",
              "        <th style=\"padding: 0 0.5em 0 0.5em; text-align: left; border: none;\">Feature</th>\n",
              "    </tr>\n",
              "    </thead>\n",
              "    <tbody>\n",
              "    \n",
              "        <tr style=\"background-color: hsl(120, 100.00%, 80.00%); border: none;\">\n",
              "            <td style=\"padding: 0 1em 0 0.5em; text-align: right; border: none;\">\n",
              "                0.0463\n",
              "                \n",
              "                    &plusmn; 0.0324\n",
              "                \n",
              "            </td>\n",
              "            <td style=\"padding: 0 0.5em 0 0.5em; text-align: left; border: none;\">\n",
              "                rh_parstriangularis_volume\n",
              "            </td>\n",
              "        </tr>\n",
              "    \n",
              "        <tr style=\"background-color: hsl(120, 100.00%, 83.05%); border: none;\">\n",
              "            <td style=\"padding: 0 1em 0 0.5em; text-align: right; border: none;\">\n",
              "                0.0366\n",
              "                \n",
              "                    &plusmn; 0.0267\n",
              "                \n",
              "            </td>\n",
              "            <td style=\"padding: 0 0.5em 0 0.5em; text-align: left; border: none;\">\n",
              "                rh_rostralmiddlefrontal_volume\n",
              "            </td>\n",
              "        </tr>\n",
              "    \n",
              "        <tr style=\"background-color: hsl(120, 100.00%, 86.36%); border: none;\">\n",
              "            <td style=\"padding: 0 1em 0 0.5em; text-align: right; border: none;\">\n",
              "                0.0268\n",
              "                \n",
              "                    &plusmn; 0.0183\n",
              "                \n",
              "            </td>\n",
              "            <td style=\"padding: 0 0.5em 0 0.5em; text-align: left; border: none;\">\n",
              "                lh_superiorfrontal_volume\n",
              "            </td>\n",
              "        </tr>\n",
              "    \n",
              "        <tr style=\"background-color: hsl(120, 100.00%, 86.36%); border: none;\">\n",
              "            <td style=\"padding: 0 1em 0 0.5em; text-align: right; border: none;\">\n",
              "                0.0268\n",
              "                \n",
              "                    &plusmn; 0.0284\n",
              "                \n",
              "            </td>\n",
              "            <td style=\"padding: 0 0.5em 0 0.5em; text-align: left; border: none;\">\n",
              "                rh_superiortemporal_volume\n",
              "            </td>\n",
              "        </tr>\n",
              "    \n",
              "        <tr style=\"background-color: hsl(120, 100.00%, 86.36%); border: none;\">\n",
              "            <td style=\"padding: 0 1em 0 0.5em; text-align: right; border: none;\">\n",
              "                0.0268\n",
              "                \n",
              "                    &plusmn; 0.0098\n",
              "                \n",
              "            </td>\n",
              "            <td style=\"padding: 0 0.5em 0 0.5em; text-align: left; border: none;\">\n",
              "                Left-Thalamus-Proper\n",
              "            </td>\n",
              "        </tr>\n",
              "    \n",
              "        <tr style=\"background-color: hsl(120, 100.00%, 87.24%); border: none;\">\n",
              "            <td style=\"padding: 0 1em 0 0.5em; text-align: right; border: none;\">\n",
              "                0.0244\n",
              "                \n",
              "                    &plusmn; 0.0218\n",
              "                \n",
              "            </td>\n",
              "            <td style=\"padding: 0 0.5em 0 0.5em; text-align: left; border: none;\">\n",
              "                rh_precentral_volume\n",
              "            </td>\n",
              "        </tr>\n",
              "    \n",
              "        <tr style=\"background-color: hsl(120, 100.00%, 87.24%); border: none;\">\n",
              "            <td style=\"padding: 0 1em 0 0.5em; text-align: right; border: none;\">\n",
              "                0.0244\n",
              "                \n",
              "                    &plusmn; 0.0154\n",
              "                \n",
              "            </td>\n",
              "            <td style=\"padding: 0 0.5em 0 0.5em; text-align: left; border: none;\">\n",
              "                lh_rostralmiddlefrontal_volume\n",
              "            </td>\n",
              "        </tr>\n",
              "    \n",
              "        <tr style=\"background-color: hsl(120, 100.00%, 87.24%); border: none;\">\n",
              "            <td style=\"padding: 0 1em 0 0.5em; text-align: right; border: none;\">\n",
              "                0.0244\n",
              "                \n",
              "                    &plusmn; 0.0154\n",
              "                \n",
              "            </td>\n",
              "            <td style=\"padding: 0 0.5em 0 0.5em; text-align: left; border: none;\">\n",
              "                lh_parsopercularis_volume\n",
              "            </td>\n",
              "        </tr>\n",
              "    \n",
              "        <tr style=\"background-color: hsl(120, 100.00%, 87.24%); border: none;\">\n",
              "            <td style=\"padding: 0 1em 0 0.5em; text-align: right; border: none;\">\n",
              "                0.0244\n",
              "                \n",
              "                    &plusmn; 0.0154\n",
              "                \n",
              "            </td>\n",
              "            <td style=\"padding: 0 0.5em 0 0.5em; text-align: left; border: none;\">\n",
              "                Left-Lateral-Ventricle\n",
              "            </td>\n",
              "        </tr>\n",
              "    \n",
              "        <tr style=\"background-color: hsl(120, 100.00%, 88.15%); border: none;\">\n",
              "            <td style=\"padding: 0 1em 0 0.5em; text-align: right; border: none;\">\n",
              "                0.0220\n",
              "                \n",
              "                    &plusmn; 0.0239\n",
              "                \n",
              "            </td>\n",
              "            <td style=\"padding: 0 0.5em 0 0.5em; text-align: left; border: none;\">\n",
              "                rh_superiorfrontal_volume\n",
              "            </td>\n",
              "        </tr>\n",
              "    \n",
              "        <tr style=\"background-color: hsl(120, 100.00%, 88.15%); border: none;\">\n",
              "            <td style=\"padding: 0 1em 0 0.5em; text-align: right; border: none;\">\n",
              "                0.0220\n",
              "                \n",
              "                    &plusmn; 0.0420\n",
              "                \n",
              "            </td>\n",
              "            <td style=\"padding: 0 0.5em 0 0.5em; text-align: left; border: none;\">\n",
              "                Right-Lateral-Ventricle\n",
              "            </td>\n",
              "        </tr>\n",
              "    \n",
              "        <tr style=\"background-color: hsl(120, 100.00%, 88.15%); border: none;\">\n",
              "            <td style=\"padding: 0 1em 0 0.5em; text-align: right; border: none;\">\n",
              "                0.0220\n",
              "                \n",
              "                    &plusmn; 0.0183\n",
              "                \n",
              "            </td>\n",
              "            <td style=\"padding: 0 0.5em 0 0.5em; text-align: left; border: none;\">\n",
              "                Brain-Stem\n",
              "            </td>\n",
              "        </tr>\n",
              "    \n",
              "        <tr style=\"background-color: hsl(120, 100.00%, 88.15%); border: none;\">\n",
              "            <td style=\"padding: 0 1em 0 0.5em; text-align: right; border: none;\">\n",
              "                0.0220\n",
              "                \n",
              "                    &plusmn; 0.0098\n",
              "                \n",
              "            </td>\n",
              "            <td style=\"padding: 0 0.5em 0 0.5em; text-align: left; border: none;\">\n",
              "                lh_lateralorbitofrontal_volume\n",
              "            </td>\n",
              "        </tr>\n",
              "    \n",
              "        <tr style=\"background-color: hsl(120, 100.00%, 88.15%); border: none;\">\n",
              "            <td style=\"padding: 0 1em 0 0.5em; text-align: right; border: none;\">\n",
              "                0.0220\n",
              "                \n",
              "                    &plusmn; 0.0098\n",
              "                \n",
              "            </td>\n",
              "            <td style=\"padding: 0 0.5em 0 0.5em; text-align: left; border: none;\">\n",
              "                rh_medialorbitofrontal_volume\n",
              "            </td>\n",
              "        </tr>\n",
              "    \n",
              "        <tr style=\"background-color: hsl(120, 100.00%, 88.15%); border: none;\">\n",
              "            <td style=\"padding: 0 1em 0 0.5em; text-align: right; border: none;\">\n",
              "                0.0220\n",
              "                \n",
              "                    &plusmn; 0.0183\n",
              "                \n",
              "            </td>\n",
              "            <td style=\"padding: 0 0.5em 0 0.5em; text-align: left; border: none;\">\n",
              "                lh_pericalcarine_volume\n",
              "            </td>\n",
              "        </tr>\n",
              "    \n",
              "        <tr style=\"background-color: hsl(120, 100.00%, 89.08%); border: none;\">\n",
              "            <td style=\"padding: 0 1em 0 0.5em; text-align: right; border: none;\">\n",
              "                0.0195\n",
              "                \n",
              "                    &plusmn; 0.0396\n",
              "                \n",
              "            </td>\n",
              "            <td style=\"padding: 0 0.5em 0 0.5em; text-align: left; border: none;\">\n",
              "                Right-choroid-plexus\n",
              "            </td>\n",
              "        </tr>\n",
              "    \n",
              "        <tr style=\"background-color: hsl(120, 100.00%, 89.08%); border: none;\">\n",
              "            <td style=\"padding: 0 1em 0 0.5em; text-align: right; border: none;\">\n",
              "                0.0195\n",
              "                \n",
              "                    &plusmn; 0.0293\n",
              "                \n",
              "            </td>\n",
              "            <td style=\"padding: 0 0.5em 0 0.5em; text-align: left; border: none;\">\n",
              "                3rd-Ventricle\n",
              "            </td>\n",
              "        </tr>\n",
              "    \n",
              "        <tr style=\"background-color: hsl(120, 100.00%, 89.08%); border: none;\">\n",
              "            <td style=\"padding: 0 1em 0 0.5em; text-align: right; border: none;\">\n",
              "                0.0195\n",
              "                \n",
              "                    &plusmn; 0.0195\n",
              "                \n",
              "            </td>\n",
              "            <td style=\"padding: 0 0.5em 0 0.5em; text-align: left; border: none;\">\n",
              "                lh_parstriangularis_volume\n",
              "            </td>\n",
              "        </tr>\n",
              "    \n",
              "        <tr style=\"background-color: hsl(120, 100.00%, 89.08%); border: none;\">\n",
              "            <td style=\"padding: 0 1em 0 0.5em; text-align: right; border: none;\">\n",
              "                0.0195\n",
              "                \n",
              "                    &plusmn; 0.0119\n",
              "                \n",
              "            </td>\n",
              "            <td style=\"padding: 0 0.5em 0 0.5em; text-align: left; border: none;\">\n",
              "                lh_caudalmiddlefrontal_volume\n",
              "            </td>\n",
              "        </tr>\n",
              "    \n",
              "        <tr style=\"background-color: hsl(120, 100.00%, 89.08%); border: none;\">\n",
              "            <td style=\"padding: 0 1em 0 0.5em; text-align: right; border: none;\">\n",
              "                0.0195\n",
              "                \n",
              "                    &plusmn; 0.0195\n",
              "                \n",
              "            </td>\n",
              "            <td style=\"padding: 0 0.5em 0 0.5em; text-align: left; border: none;\">\n",
              "                CortexVol\n",
              "            </td>\n",
              "        </tr>\n",
              "    \n",
              "    \n",
              "        \n",
              "            <tr style=\"background-color: hsl(120, 100.00%, 89.08%); border: none;\">\n",
              "                <td colspan=\"2\" style=\"padding: 0 0.5em 0 0.5em; text-align: center; border: none; white-space: nowrap;\">\n",
              "                    <i>&hellip; 124 more &hellip;</i>\n",
              "                </td>\n",
              "            </tr>\n",
              "        \n",
              "    \n",
              "    </tbody>\n",
              "</table>\n",
              "    \n",
              "\n",
              "    \n",
              "\n",
              "\n",
              "    \n",
              "\n",
              "    \n",
              "\n",
              "    \n",
              "\n",
              "    \n",
              "\n",
              "    \n",
              "\n",
              "    \n",
              "\n",
              "\n",
              "\n"
            ],
            "text/plain": [
              "<IPython.core.display.HTML object>"
            ]
          },
          "metadata": {
            "tags": []
          },
          "execution_count": 70
        }
      ]
    }
  ]
}